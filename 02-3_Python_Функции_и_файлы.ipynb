{
  "nbformat": 4,
  "nbformat_minor": 0,
  "metadata": {
    "colab": {
      "provenance": [],
      "collapsed_sections": [
        "VWUieFziOgO6",
        "KuByprK0-_GF",
        "maE3_bvlVh_-",
        "ywkrpuTNESnn",
        "gh--Jo6CFwKQ",
        "H06SXLtjh4CX",
        "qX7pAHJssQWu"
      ],
      "include_colab_link": true
    },
    "kernelspec": {
      "name": "python3",
      "display_name": "Python 3"
    },
    "language_info": {
      "name": "python"
    }
  },
  "cells": [
    {
      "cell_type": "markdown",
      "metadata": {
        "id": "view-in-github",
        "colab_type": "text"
      },
      "source": [
        "<a href=\"https://colab.research.google.com/github/florenskaial118/ML/blob/main/03_Python_%D0%A4%D1%83%D0%BD%D0%BA%D1%86%D0%B8%D0%B8_%D0%B8_%D1%84%D0%B0%D0%B9%D0%BB%D1%8B.ipynb\" target=\"_parent\"><img src=\"https://colab.research.google.com/assets/colab-badge.svg\" alt=\"Open In Colab\"/></a>"
      ]
    },
    {
      "cell_type": "markdown",
      "metadata": {
        "id": "QHo1Rukv-pZw"
      },
      "source": [
        "# Функции и методы\n",
        "**Функции** в Python - это ***объект***, который принимает на вход *аргументы* и *возвращает* значение.\n",
        "\n",
        "Функции делятся на 2 типа:\n",
        "- **встроенные** функции, которые являются частью Python (`raw_input()`, `type()`, `float()`, `max()`, `min()`, `int()`, `str()`, …)\n",
        "- функции, **объявленные пользователем**, которые объявляются и определяются пользователем для конкретной цели\n",
        "\n",
        "**ВАЖНО**: имена встроенных функций являются зарезервированными словами, которые запрещено использовать в качестве названия своих переменных, функций или классов (**в противном случае, встроенная функция перезапишется!!!**)\n"
      ]
    },
    {
      "cell_type": "markdown",
      "source": [
        "##Встроенные методы для работы с типами данных\n",
        "- [строковые методы](https://pythonworld.ru/tipy-dannyx-v-python/stroki-funkcii-i-metody-strok.html)\n",
        "- [списковые методы](https://pythonworld.ru/tipy-dannyx-v-python/spiski-list-funkcii-i-metody-spiskov.html)\n",
        "- [методы словарей](https://pythonworld.ru/tipy-dannyx-v-python/slovari-dict-funkcii-i-metody-slovarej.html)\n",
        "- [методы множеств](https://pythonworld.ru/tipy-dannyx-v-python/mnozhestva-set-i-frozenset.html)"
      ],
      "metadata": {
        "id": "VWUieFziOgO6"
      }
    },
    {
      "cell_type": "code",
      "metadata": {
        "colab": {
          "base_uri": "https://localhost:8080/"
        },
        "id": "HkMszmKPajL2",
        "outputId": "43b60375-3c85-49ef-d5c9-bc7d53d2afda"
      },
      "source": [
        "stroka = '569'\n",
        "stroka, type(stroka), int(stroka), type(int(stroka))"
      ],
      "execution_count": null,
      "outputs": [
        {
          "output_type": "execute_result",
          "data": {
            "text/plain": [
              "('569', str, 569, int)"
            ]
          },
          "metadata": {},
          "execution_count": 1
        }
      ]
    },
    {
      "cell_type": "code",
      "source": [
        "stroka.replace('6','10')"
      ],
      "metadata": {
        "colab": {
          "base_uri": "https://localhost:8080/",
          "height": 35
        },
        "id": "5wZEf5olzO5r",
        "outputId": "d22affbf-2d21-4dca-d043-b8ebd7ee256b"
      },
      "execution_count": null,
      "outputs": [
        {
          "output_type": "execute_result",
          "data": {
            "application/vnd.google.colaboratory.intrinsic+json": {
              "type": "string"
            },
            "text/plain": [
              "'5109'"
            ]
          },
          "metadata": {},
          "execution_count": 2
        }
      ]
    },
    {
      "cell_type": "code",
      "metadata": {
        "colab": {
          "base_uri": "https://localhost:8080/"
        },
        "id": "cUT66hnT_aIg",
        "outputId": "354958c1-4158-4cf0-f666-62c792b5c344"
      },
      "source": [
        "big = max('Hello world')\n",
        "print(big)\n",
        "tiny = min('Hello world')\n",
        "print(tiny)"
      ],
      "execution_count": null,
      "outputs": [
        {
          "output_type": "stream",
          "name": "stdout",
          "text": [
            "w\n",
            " \n"
          ]
        }
      ]
    },
    {
      "cell_type": "markdown",
      "metadata": {
        "id": "KuByprK0-_GF"
      },
      "source": [
        "##Опредление собственных функций\n",
        "- В Python функция - это некоторый код, который может быть использован много раз; функция использует входящие значения (аргументы) в качестве параметров и возвращаюет некоторый результат или множество результатов\n",
        "- Объявить функцию можно с помощью ключевого слова **def** (так же является зарезервированным словом)\n",
        "- Вызвать функцию можно, используя ее имя, скобочки и аргументы\n"
      ]
    },
    {
      "cell_type": "code",
      "metadata": {
        "id": "9lWEBFa4_acW"
      },
      "source": [
        "def print_lyrics():\n",
        "  print(\"I'm a lumberjack, and I'm okay.\" )\n",
        "  print('I sleep all night and I work all day.')"
      ],
      "execution_count": null,
      "outputs": []
    },
    {
      "cell_type": "code",
      "metadata": {
        "colab": {
          "base_uri": "https://localhost:8080/"
        },
        "id": "IUTyokmqfkF-",
        "outputId": "a592a6c5-fb5a-4d44-c898-23835f12e592"
      },
      "source": [
        "print_lyrics()"
      ],
      "execution_count": null,
      "outputs": [
        {
          "output_type": "stream",
          "name": "stdout",
          "text": [
            "I'm a lumberjack, and I'm okay.\n",
            "I sleep all night and I work all day.\n"
          ]
        }
      ]
    },
    {
      "cell_type": "markdown",
      "source": [
        "###Еще примеры"
      ],
      "metadata": {
        "id": "maE3_bvlVh_-"
      }
    },
    {
      "cell_type": "code",
      "metadata": {
        "colab": {
          "base_uri": "https://localhost:8080/"
        },
        "id": "38Pt-S9e_adO",
        "outputId": "c974f39f-77db-4bfb-fa1a-9155eb958ad4"
      },
      "source": [
        "x = 5\n",
        "print('Hello')\n",
        "\n",
        "def print_lyrics():\n",
        "  print(\"I'm a lumberjack, and I'm okay.\" )\n",
        "  print('I sleep all night and I work all day.')\n",
        "\n",
        "print('Yo')\n",
        "print_lyrics()\n",
        "x = x + 2\n",
        "print(x)"
      ],
      "execution_count": null,
      "outputs": [
        {
          "output_type": "stream",
          "name": "stdout",
          "text": [
            "Hello\n",
            "Yo\n",
            "I'm a lumberjack, and I'm okay.\n",
            "I sleep all night and I work all day.\n",
            "7\n"
          ]
        }
      ]
    },
    {
      "cell_type": "code",
      "metadata": {
        "colab": {
          "base_uri": "https://localhost:8080/"
        },
        "id": "55ugxisxCouV",
        "outputId": "e1889112-7e4b-480e-cdcb-8fecc639cbd7"
      },
      "source": [
        "def greet(lang): # lang - параметр\n",
        "  if lang == 'es':\n",
        "    print('Hola')\n",
        "  elif lang == 'fr':\n",
        "    print('Bonjour')\n",
        "  else:\n",
        "    print('Hello')\n",
        "\n",
        "greet('en') # 'en' - аргумент\n",
        "greet('es')\n",
        "greet('fr')"
      ],
      "execution_count": null,
      "outputs": [
        {
          "output_type": "stream",
          "name": "stdout",
          "text": [
            "Hello\n",
            "Hola\n",
            "Bonjour\n"
          ]
        }
      ]
    },
    {
      "cell_type": "code",
      "source": [
        "greet('fr', 4)"
      ],
      "metadata": {
        "colab": {
          "base_uri": "https://localhost:8080/",
          "height": 166
        },
        "id": "749frANVYI6n",
        "outputId": "d64f4576-710b-4672-cc62-a30e1927ea97"
      },
      "execution_count": null,
      "outputs": [
        {
          "output_type": "error",
          "ename": "TypeError",
          "evalue": "ignored",
          "traceback": [
            "\u001b[0;31m---------------------------------------------------------------------------\u001b[0m",
            "\u001b[0;31mTypeError\u001b[0m                                 Traceback (most recent call last)",
            "\u001b[0;32m<ipython-input-8-9a00341a35f3>\u001b[0m in \u001b[0;36m<module>\u001b[0;34m()\u001b[0m\n\u001b[0;32m----> 1\u001b[0;31m \u001b[0mgreet\u001b[0m\u001b[0;34m(\u001b[0m\u001b[0;34m'fr'\u001b[0m\u001b[0;34m,\u001b[0m \u001b[0;36m4\u001b[0m\u001b[0;34m)\u001b[0m\u001b[0;34m\u001b[0m\u001b[0;34m\u001b[0m\u001b[0m\n\u001b[0m",
            "\u001b[0;31mTypeError\u001b[0m: greet() takes 1 positional argument but 2 were given"
          ]
        }
      ]
    },
    {
      "cell_type": "markdown",
      "source": [
        "***Комментарий***\n",
        "\n",
        " `*args, **kwargs`\n",
        "\n",
        "Data transfer object (DTO)\n",
        "def __init__(id: int, status: str, amount: float, creator_name: str, processed: bool=False)"
      ],
      "metadata": {
        "id": "02mQUW-GXPKe"
      }
    },
    {
      "cell_type": "code",
      "metadata": {
        "colab": {
          "base_uri": "https://localhost:8080/"
        },
        "id": "q9uHQLTJiTm9",
        "outputId": "6756e790-4d7c-45b6-d31f-32677f0dae41"
      },
      "source": [
        "greet(lang='es')"
      ],
      "execution_count": null,
      "outputs": [
        {
          "output_type": "stream",
          "name": "stdout",
          "text": [
            "Hola\n"
          ]
        }
      ]
    },
    {
      "cell_type": "code",
      "source": [
        "greet(x='es')"
      ],
      "metadata": {
        "colab": {
          "base_uri": "https://localhost:8080/",
          "height": 166
        },
        "id": "aAbf7qPrYkqL",
        "outputId": "d88abe1e-a770-4a16-baec-5349eaa77a62"
      },
      "execution_count": null,
      "outputs": [
        {
          "output_type": "error",
          "ename": "TypeError",
          "evalue": "ignored",
          "traceback": [
            "\u001b[0;31m---------------------------------------------------------------------------\u001b[0m",
            "\u001b[0;31mTypeError\u001b[0m                                 Traceback (most recent call last)",
            "\u001b[0;32m<ipython-input-9-9b8081a4e721>\u001b[0m in \u001b[0;36m<module>\u001b[0;34m()\u001b[0m\n\u001b[0;32m----> 1\u001b[0;31m \u001b[0mgreet\u001b[0m\u001b[0;34m(\u001b[0m\u001b[0mx\u001b[0m\u001b[0;34m=\u001b[0m\u001b[0;34m'es'\u001b[0m\u001b[0;34m)\u001b[0m\u001b[0;34m\u001b[0m\u001b[0;34m\u001b[0m\u001b[0m\n\u001b[0m",
            "\u001b[0;31mTypeError\u001b[0m: greet() got an unexpected keyword argument 'x'"
          ]
        }
      ]
    },
    {
      "cell_type": "code",
      "metadata": {
        "id": "UGAT1pNqik4L"
      },
      "source": [
        "def greet(lang, count=1):\n",
        "  if lang == 'es':\n",
        "    for i in range(count):\n",
        "      print('Hola')\n",
        "  elif lang == 'fr':\n",
        "    for i in range(count):\n",
        "      print('Bonjour')\n",
        "  else:\n",
        "    for i in range(count):\n",
        "      print('Hello')"
      ],
      "execution_count": null,
      "outputs": []
    },
    {
      "cell_type": "code",
      "source": [
        "def greet(count=1, lang):\n",
        "  if lang == 'es':\n",
        "    for i in range(count):\n",
        "      print('Hola')\n",
        "  elif lang == 'fr':\n",
        "    for i in range(count):\n",
        "      print('Bonjour')\n",
        "  else:\n",
        "    for i in range(count):\n",
        "      print('Hello')"
      ],
      "metadata": {
        "colab": {
          "base_uri": "https://localhost:8080/",
          "height": 131
        },
        "id": "VbJk5yBoYu-_",
        "outputId": "aac5c0d2-5578-452c-aa02-e982259d164b"
      },
      "execution_count": null,
      "outputs": [
        {
          "output_type": "error",
          "ename": "SyntaxError",
          "evalue": "ignored",
          "traceback": [
            "\u001b[0;36m  File \u001b[0;32m\"<ipython-input-10-77dfc877fa2f>\"\u001b[0;36m, line \u001b[0;32m1\u001b[0m\n\u001b[0;31m    def greet(count=1, lang):\u001b[0m\n\u001b[0m             ^\u001b[0m\n\u001b[0;31mSyntaxError\u001b[0m\u001b[0;31m:\u001b[0m non-default argument follows default argument\n"
          ]
        }
      ]
    },
    {
      "cell_type": "code",
      "source": [
        "greet('fr')"
      ],
      "metadata": {
        "colab": {
          "base_uri": "https://localhost:8080/"
        },
        "id": "Y-c8UInoVBQM",
        "outputId": "ffe6a46a-2754-4045-cff6-31ccf7d9ffd0"
      },
      "execution_count": null,
      "outputs": [
        {
          "output_type": "stream",
          "name": "stdout",
          "text": [
            "Bonjour\n"
          ]
        }
      ]
    },
    {
      "cell_type": "code",
      "metadata": {
        "colab": {
          "base_uri": "https://localhost:8080/"
        },
        "id": "LlzZYrpTi8ST",
        "outputId": "b6ead125-9037-4da2-bec8-54524f44560d"
      },
      "source": [
        "greet('fr', 5)"
      ],
      "execution_count": null,
      "outputs": [
        {
          "output_type": "stream",
          "name": "stdout",
          "text": [
            "Bonjour\n",
            "Bonjour\n",
            "Bonjour\n",
            "Bonjour\n",
            "Bonjour\n"
          ]
        }
      ]
    },
    {
      "cell_type": "code",
      "metadata": {
        "colab": {
          "base_uri": "https://localhost:8080/"
        },
        "id": "vvYQO-MtjFi-",
        "outputId": "387b5ca5-c34b-4656-82fd-b344967a1eb5"
      },
      "source": [
        "greet(lang='fr', count=5) #порядок передаваемых аргументов не важен, так как мы явно указываем имена параметров"
      ],
      "execution_count": null,
      "outputs": [
        {
          "output_type": "stream",
          "name": "stdout",
          "text": [
            "Bonjour\n",
            "Bonjour\n",
            "Bonjour\n",
            "Bonjour\n",
            "Bonjour\n"
          ]
        }
      ]
    },
    {
      "cell_type": "code",
      "metadata": {
        "colab": {
          "base_uri": "https://localhost:8080/"
        },
        "id": "XbTWkaKzjocC",
        "outputId": "1eb0c078-3522-49de-a8d2-7b8f6e00571b"
      },
      "source": [
        "greet(count=5, lang='fr') #порядок передаваемых аргументов не важен, так как мы явно указываем имена параметров"
      ],
      "execution_count": null,
      "outputs": [
        {
          "output_type": "stream",
          "name": "stdout",
          "text": [
            "Bonjour\n",
            "Bonjour\n",
            "Bonjour\n",
            "Bonjour\n",
            "Bonjour\n"
          ]
        }
      ]
    },
    {
      "cell_type": "code",
      "metadata": {
        "colab": {
          "base_uri": "https://localhost:8080/",
          "height": 271
        },
        "id": "yXUPqgzfjLAy",
        "outputId": "599cf865-9ed8-466f-f7e0-aace135e50c0"
      },
      "source": [
        "greet(5, 'fr') #неверный порядок передаваемых аргументов"
      ],
      "execution_count": null,
      "outputs": [
        {
          "output_type": "error",
          "ename": "TypeError",
          "evalue": "ignored",
          "traceback": [
            "\u001b[0;31m---------------------------------------------------------------------------\u001b[0m",
            "\u001b[0;31mTypeError\u001b[0m                                 Traceback (most recent call last)",
            "\u001b[0;32m<ipython-input-35-ce5b2930b30b>\u001b[0m in \u001b[0;36m<module>\u001b[0;34m()\u001b[0m\n\u001b[0;32m----> 1\u001b[0;31m \u001b[0mgreet\u001b[0m\u001b[0;34m(\u001b[0m\u001b[0;36m5\u001b[0m\u001b[0;34m,\u001b[0m \u001b[0;34m'fr'\u001b[0m\u001b[0;34m)\u001b[0m\u001b[0;34m\u001b[0m\u001b[0;34m\u001b[0m\u001b[0m\n\u001b[0m",
            "\u001b[0;32m<ipython-input-31-132eb26a848b>\u001b[0m in \u001b[0;36mgreet\u001b[0;34m(lang, count)\u001b[0m\n\u001b[1;32m      7\u001b[0m       \u001b[0mprint\u001b[0m\u001b[0;34m(\u001b[0m\u001b[0;34m'Bonjour'\u001b[0m\u001b[0;34m)\u001b[0m\u001b[0;34m\u001b[0m\u001b[0;34m\u001b[0m\u001b[0m\n\u001b[1;32m      8\u001b[0m   \u001b[0;32melse\u001b[0m\u001b[0;34m:\u001b[0m\u001b[0;34m\u001b[0m\u001b[0;34m\u001b[0m\u001b[0m\n\u001b[0;32m----> 9\u001b[0;31m     \u001b[0;32mfor\u001b[0m \u001b[0mi\u001b[0m \u001b[0;32min\u001b[0m \u001b[0mrange\u001b[0m\u001b[0;34m(\u001b[0m\u001b[0mcount\u001b[0m\u001b[0;34m)\u001b[0m\u001b[0;34m:\u001b[0m\u001b[0;34m\u001b[0m\u001b[0;34m\u001b[0m\u001b[0m\n\u001b[0m\u001b[1;32m     10\u001b[0m       \u001b[0mprint\u001b[0m\u001b[0;34m(\u001b[0m\u001b[0;34m'Hello'\u001b[0m\u001b[0;34m)\u001b[0m\u001b[0;34m\u001b[0m\u001b[0;34m\u001b[0m\u001b[0m\n",
            "\u001b[0;31mTypeError\u001b[0m: 'str' object cannot be interpreted as an integer"
          ]
        }
      ]
    },
    {
      "cell_type": "code",
      "source": [
        "res = greet('en')\n",
        "print(res)"
      ],
      "metadata": {
        "colab": {
          "base_uri": "https://localhost:8080/"
        },
        "id": "EF_Twwgl60b8",
        "outputId": "063b6321-7788-45f3-eb22-852eaed1afbf"
      },
      "execution_count": null,
      "outputs": [
        {
          "output_type": "stream",
          "name": "stdout",
          "text": [
            "Hello\n",
            "None\n"
          ]
        }
      ]
    },
    {
      "cell_type": "code",
      "source": [
        "def greet(lang, count=1):\n",
        "  if lang == 'es':\n",
        "    for i in range(count):\n",
        "      print('Hola')\n",
        "  elif lang == 'fr':\n",
        "    for i in range(count):\n",
        "      print('Bonjour')\n",
        "  else:\n",
        "    for i in range(count):\n",
        "      print('Hello')\n",
        "  return # None"
      ],
      "metadata": {
        "id": "fxkMZIq_Zrxj"
      },
      "execution_count": null,
      "outputs": []
    },
    {
      "cell_type": "markdown",
      "metadata": {
        "id": "ywkrpuTNESnn"
      },
      "source": [
        "###Return Values\n",
        "Ключевое слово `return` означает передачу каких-то значений на выход из функции. После ключевого слова `return` прекращается исполнение кода, который лежит в теле функции.\n"
      ]
    },
    {
      "cell_type": "code",
      "metadata": {
        "colab": {
          "base_uri": "https://localhost:8080/"
        },
        "id": "lqb6QDGRCow8",
        "outputId": "57b41e5f-85c1-46cd-9a50-585cbd2da2d8"
      },
      "source": [
        "def greet():\n",
        "  return \"Hello\"\n",
        "\n",
        "print(greet(), \"Glenn\")\n",
        "print(greet(), \"Sally\")"
      ],
      "execution_count": null,
      "outputs": [
        {
          "output_type": "stream",
          "name": "stdout",
          "text": [
            "Hello Glenn\n",
            "Hello Sally\n"
          ]
        }
      ]
    },
    {
      "cell_type": "code",
      "metadata": {
        "colab": {
          "base_uri": "https://localhost:8080/"
        },
        "id": "Y0OQ2YpskKBs",
        "outputId": "5ebd4c5a-8a9b-4b53-fbff-b60bf473fbeb"
      },
      "source": [
        "x = greet()\n",
        "print(type(x), x)"
      ],
      "execution_count": null,
      "outputs": [
        {
          "output_type": "stream",
          "name": "stdout",
          "text": [
            "<class 'str'> Hello\n"
          ]
        }
      ]
    },
    {
      "cell_type": "code",
      "metadata": {
        "colab": {
          "base_uri": "https://localhost:8080/"
        },
        "id": "dCHSonEjCozZ",
        "outputId": "e0393efa-45d8-4f9b-95de-8979b554182f"
      },
      "source": [
        "def greet(lang):\n",
        "  if lang == 'es':\n",
        "    return 'Hola'\n",
        "  elif lang == 'fr':\n",
        "    return 'Bonjour'\n",
        "  else:\n",
        "    return 'Hello'\n",
        "  x = 10\n",
        "  print(x)\n",
        "\n",
        "print(greet('en'), 'Glenn')\n",
        "print(greet('es'), 'Sally')\n",
        "print(greet('fr'), 'Michael')"
      ],
      "execution_count": null,
      "outputs": [
        {
          "output_type": "stream",
          "name": "stdout",
          "text": [
            "Hello Glenn\n",
            "Hola Sally\n",
            "Bonjour Michael\n"
          ]
        }
      ]
    },
    {
      "cell_type": "code",
      "source": [
        "def greet(lang, count=1):\n",
        "  if lang == 'es':\n",
        "    return ['Hola' for i in range(count)]\n",
        "  elif lang == 'fr':\n",
        "    return ['Bonjour' for i in range(count)]\n",
        "  else:\n",
        "    return ['Hello' for i in range(count)]\n",
        "\n",
        "greet('fr', count=3)"
      ],
      "metadata": {
        "colab": {
          "base_uri": "https://localhost:8080/"
        },
        "id": "S7vJsSqZQO05",
        "outputId": "ea6f8e78-7af7-436a-aafc-76127f3c0f4b"
      },
      "execution_count": null,
      "outputs": [
        {
          "output_type": "execute_result",
          "data": {
            "text/plain": [
              "['Bonjour', 'Bonjour', 'Bonjour']"
            ]
          },
          "metadata": {},
          "execution_count": 5
        }
      ]
    },
    {
      "cell_type": "code",
      "source": [
        "def greet(lang):\n",
        "  if lang == 'es':\n",
        "    return 'Hola'\n",
        "  return 'Hello'\n",
        "\n",
        "print(greet('en'), 'Glenn')\n",
        "print(greet('es'), 'Sally')"
      ],
      "metadata": {
        "colab": {
          "base_uri": "https://localhost:8080/"
        },
        "id": "igbXyuxZbHeq",
        "outputId": "f10b4d87-c479-4597-80a1-9248dc9096ca"
      },
      "execution_count": null,
      "outputs": [
        {
          "output_type": "stream",
          "name": "stdout",
          "text": [
            "Hello Glenn\n",
            "Hola Sally\n"
          ]
        }
      ]
    },
    {
      "cell_type": "code",
      "source": [
        "def greet(lang):\n",
        "  return 'Hola' if lang == 'es' else 'Bonjour' if lang == 'fr' else 'Hello'\n",
        "\n",
        "print(greet('en'), 'Glenn')\n",
        "print(greet('es'), 'Sally')\n",
        "print(greet('fr'), 'Michael')"
      ],
      "metadata": {
        "colab": {
          "base_uri": "https://localhost:8080/"
        },
        "id": "_hmQn3pXbdHC",
        "outputId": "fdc72774-cc9b-49a7-8ad3-cd3bc6de7463"
      },
      "execution_count": null,
      "outputs": [
        {
          "output_type": "stream",
          "name": "stdout",
          "text": [
            "Hello Glenn\n",
            "Hola Sally\n",
            "Bonjour Michael\n"
          ]
        }
      ]
    },
    {
      "cell_type": "code",
      "metadata": {
        "colab": {
          "base_uri": "https://localhost:8080/"
        },
        "id": "YHYE9ZXICo1x",
        "outputId": "6940da53-3ed7-4ef6-885b-eaa026211572"
      },
      "source": [
        "def addto(a, b):\n",
        "  added = a + b\n",
        "  return added\n",
        "\n",
        "x = addto(3, 5)\n",
        "print(x)"
      ],
      "execution_count": null,
      "outputs": [
        {
          "output_type": "stream",
          "name": "stdout",
          "text": [
            "8\n"
          ]
        }
      ]
    },
    {
      "cell_type": "code",
      "source": [
        "def addto(a, b): return a + b\n",
        "\n",
        "x = addto(3, 5)\n",
        "print(x)"
      ],
      "metadata": {
        "colab": {
          "base_uri": "https://localhost:8080/"
        },
        "id": "5WjPCWxEanTQ",
        "outputId": "ac21f2b7-7de7-499a-e0ae-976e7e8ccb44"
      },
      "execution_count": null,
      "outputs": [
        {
          "output_type": "stream",
          "name": "stdout",
          "text": [
            "8\n"
          ]
        }
      ]
    },
    {
      "cell_type": "code",
      "source": [
        "print(addto)"
      ],
      "metadata": {
        "colab": {
          "base_uri": "https://localhost:8080/"
        },
        "id": "dfSKqfOYgXyM",
        "outputId": "4ba6d85d-35fa-4e2e-99de-c228cfa2c8b5"
      },
      "execution_count": null,
      "outputs": [
        {
          "output_type": "stream",
          "name": "stdout",
          "text": [
            "<function addto at 0x7f5e6a859170>\n"
          ]
        }
      ]
    },
    {
      "cell_type": "markdown",
      "source": [
        "###Лямбда-функции"
      ],
      "metadata": {
        "id": "YTmsRCjyO4Mv"
      }
    },
    {
      "cell_type": "code",
      "source": [
        "def my_pow(x): return x**2\n",
        "my_list = [1, 2, 3]\n",
        "res_list = [my_pow(i) for i in my_list]\n",
        "res_list"
      ],
      "metadata": {
        "colab": {
          "base_uri": "https://localhost:8080/"
        },
        "id": "PvG0cNP2cnxx",
        "outputId": "3a727fab-ec56-4926-938c-ccb5a630f594"
      },
      "execution_count": null,
      "outputs": [
        {
          "output_type": "execute_result",
          "data": {
            "text/plain": [
              "[1, 4, 9]"
            ]
          },
          "metadata": {},
          "execution_count": 2
        }
      ]
    },
    {
      "cell_type": "code",
      "source": [
        "list(map(my_pow, my_list))"
      ],
      "metadata": {
        "colab": {
          "base_uri": "https://localhost:8080/"
        },
        "id": "P_oUc9PAPIiX",
        "outputId": "313b64f5-fa65-47f1-c616-b0dd2172fecf"
      },
      "execution_count": null,
      "outputs": [
        {
          "output_type": "execute_result",
          "data": {
            "text/plain": [
              "[1, 4, 9]"
            ]
          },
          "metadata": {},
          "execution_count": 3
        }
      ]
    },
    {
      "cell_type": "code",
      "source": [
        "list(map(lambda x: x**2, my_list))"
      ],
      "metadata": {
        "colab": {
          "base_uri": "https://localhost:8080/"
        },
        "id": "ejgtXaNddITJ",
        "outputId": "92ab1aaa-db0c-4ad8-f8ac-1349127267ca"
      },
      "execution_count": null,
      "outputs": [
        {
          "output_type": "execute_result",
          "data": {
            "text/plain": [
              "[1, 4, 9]"
            ]
          },
          "metadata": {},
          "execution_count": 35
        }
      ]
    },
    {
      "cell_type": "code",
      "source": [
        "map(my_pow, my_list)"
      ],
      "metadata": {
        "colab": {
          "base_uri": "https://localhost:8080/"
        },
        "id": "nvK22-TDg5x_",
        "outputId": "65da1896-f783-49f4-edf3-d2bf20e6e058"
      },
      "execution_count": null,
      "outputs": [
        {
          "output_type": "execute_result",
          "data": {
            "text/plain": [
              "<map at 0x7f5e6a8ab050>"
            ]
          },
          "metadata": {},
          "execution_count": 47
        }
      ]
    },
    {
      "cell_type": "code",
      "source": [
        "list(map(addto, my_list))"
      ],
      "metadata": {
        "colab": {
          "base_uri": "https://localhost:8080/",
          "height": 167
        },
        "id": "zhgB4SHZe6GE",
        "outputId": "7cc5a67d-0687-48b9-ea43-c594d9cc8bce"
      },
      "execution_count": null,
      "outputs": [
        {
          "output_type": "error",
          "ename": "TypeError",
          "evalue": "ignored",
          "traceback": [
            "\u001b[0;31m---------------------------------------------------------------------------\u001b[0m",
            "\u001b[0;31mTypeError\u001b[0m                                 Traceback (most recent call last)",
            "\u001b[0;32m<ipython-input-8-53bbe6583a10>\u001b[0m in \u001b[0;36m<module>\u001b[0;34m\u001b[0m\n\u001b[0;32m----> 1\u001b[0;31m \u001b[0mlist\u001b[0m\u001b[0;34m(\u001b[0m\u001b[0mmap\u001b[0m\u001b[0;34m(\u001b[0m\u001b[0maddto\u001b[0m\u001b[0;34m,\u001b[0m \u001b[0mmy_list\u001b[0m\u001b[0;34m)\u001b[0m\u001b[0;34m)\u001b[0m\u001b[0;34m\u001b[0m\u001b[0;34m\u001b[0m\u001b[0m\n\u001b[0m",
            "\u001b[0;31mTypeError\u001b[0m: addto() missing 1 required positional argument: 'b'"
          ]
        }
      ]
    },
    {
      "cell_type": "code",
      "source": [
        "list(map(addto, [(i,j) for i, j in zip(range(10), range(10, 20))]))"
      ],
      "metadata": {
        "colab": {
          "base_uri": "https://localhost:8080/",
          "height": 167
        },
        "id": "NikkNYbbVcso",
        "outputId": "b49f0da0-2a2b-4d71-fe0d-3ff7841b5076"
      },
      "execution_count": null,
      "outputs": [
        {
          "output_type": "error",
          "ename": "TypeError",
          "evalue": "ignored",
          "traceback": [
            "\u001b[0;31m---------------------------------------------------------------------------\u001b[0m",
            "\u001b[0;31mTypeError\u001b[0m                                 Traceback (most recent call last)",
            "\u001b[0;32m<ipython-input-9-9bf8b940be10>\u001b[0m in \u001b[0;36m<module>\u001b[0;34m\u001b[0m\n\u001b[0;32m----> 1\u001b[0;31m \u001b[0mlist\u001b[0m\u001b[0;34m(\u001b[0m\u001b[0mmap\u001b[0m\u001b[0;34m(\u001b[0m\u001b[0maddto\u001b[0m\u001b[0;34m,\u001b[0m \u001b[0;34m[\u001b[0m\u001b[0;34m(\u001b[0m\u001b[0mi\u001b[0m\u001b[0;34m,\u001b[0m\u001b[0mj\u001b[0m\u001b[0;34m)\u001b[0m \u001b[0;32mfor\u001b[0m \u001b[0mi\u001b[0m\u001b[0;34m,\u001b[0m \u001b[0mj\u001b[0m \u001b[0;32min\u001b[0m \u001b[0mzip\u001b[0m\u001b[0;34m(\u001b[0m\u001b[0mrange\u001b[0m\u001b[0;34m(\u001b[0m\u001b[0;36m10\u001b[0m\u001b[0;34m)\u001b[0m\u001b[0;34m,\u001b[0m \u001b[0mrange\u001b[0m\u001b[0;34m(\u001b[0m\u001b[0;36m10\u001b[0m\u001b[0;34m,\u001b[0m \u001b[0;36m20\u001b[0m\u001b[0;34m)\u001b[0m\u001b[0;34m)\u001b[0m\u001b[0;34m]\u001b[0m\u001b[0;34m)\u001b[0m\u001b[0;34m)\u001b[0m\u001b[0;34m\u001b[0m\u001b[0;34m\u001b[0m\u001b[0m\n\u001b[0m",
            "\u001b[0;31mTypeError\u001b[0m: addto() missing 1 required positional argument: 'b'"
          ]
        }
      ]
    },
    {
      "cell_type": "code",
      "source": [
        "list(map(addto, my_list, my_list)) # а вот так можно!!!"
      ],
      "metadata": {
        "colab": {
          "base_uri": "https://localhost:8080/"
        },
        "id": "dsZL-EgKVqDb",
        "outputId": "b5f260bf-5d0a-4553-e679-d97b6c9a9a83"
      },
      "execution_count": null,
      "outputs": [
        {
          "output_type": "execute_result",
          "data": {
            "text/plain": [
              "[2, 4, 6]"
            ]
          },
          "metadata": {},
          "execution_count": 12
        }
      ]
    },
    {
      "cell_type": "code",
      "source": [
        "print(list(map(addto, my_list, my_list)))\n",
        "#\n",
        "print([addto(i,j) for i,j in zip(my_list, my_list)])"
      ],
      "metadata": {
        "colab": {
          "base_uri": "https://localhost:8080/"
        },
        "id": "TyHTndDkfLyB",
        "outputId": "d6495069-9efc-4793-8d66-6a22f67ba660"
      },
      "execution_count": null,
      "outputs": [
        {
          "output_type": "stream",
          "name": "stdout",
          "text": [
            "[2, 4, 6]\n",
            "[2, 4, 6]\n"
          ]
        }
      ]
    },
    {
      "cell_type": "code",
      "source": [
        "f = lambda x: x**2\n",
        "f(2)"
      ],
      "metadata": {
        "colab": {
          "base_uri": "https://localhost:8080/"
        },
        "id": "Jvi_mFVBcbby",
        "outputId": "dacda1ec-8191-430c-a29f-23c0766d9bbf"
      },
      "execution_count": null,
      "outputs": [
        {
          "output_type": "execute_result",
          "data": {
            "text/plain": [
              "4"
            ]
          },
          "metadata": {},
          "execution_count": 26
        }
      ]
    },
    {
      "cell_type": "code",
      "source": [
        "(lambda x: x*2)(12)"
      ],
      "metadata": {
        "colab": {
          "base_uri": "https://localhost:8080/"
        },
        "id": "ane22pl_eRc7",
        "outputId": "7daef523-dba3-4faa-e8b8-2f54021640ee"
      },
      "execution_count": null,
      "outputs": [
        {
          "output_type": "execute_result",
          "data": {
            "text/plain": [
              "24"
            ]
          },
          "metadata": {},
          "execution_count": 36
        }
      ]
    },
    {
      "cell_type": "code",
      "source": [
        "[(lambda x: x**2)(i) for i in my_list]"
      ],
      "metadata": {
        "id": "c9Ci8f2PiHl9",
        "outputId": "1d0ac0bc-ec56-4bb2-a332-7d4c9aadaea9",
        "colab": {
          "base_uri": "https://localhost:8080/"
        }
      },
      "execution_count": null,
      "outputs": [
        {
          "output_type": "execute_result",
          "data": {
            "text/plain": [
              "[1, 4, 9]"
            ]
          },
          "metadata": {},
          "execution_count": 51
        }
      ]
    },
    {
      "cell_type": "markdown",
      "metadata": {
        "id": "gh--Jo6CFwKQ"
      },
      "source": [
        "##Void Functions\n",
        "- When a function does not return a value, we call it a \"void\" function\n",
        "- Functions that return values are \"fruitful\" functions\n",
        "- Void functions are \"not fruitful\""
      ]
    },
    {
      "cell_type": "code",
      "metadata": {
        "id": "VEQ84Dqdm3Kg"
      },
      "source": [
        "def addto(a, b):\n",
        "  added = a + b"
      ],
      "execution_count": null,
      "outputs": []
    },
    {
      "cell_type": "code",
      "metadata": {
        "id": "DTZfAU0em4dH"
      },
      "source": [
        "addto(8, 20)"
      ],
      "execution_count": null,
      "outputs": []
    },
    {
      "cell_type": "code",
      "source": [
        "def greet(lang):\n",
        "  if lang == 'es':\n",
        "    print('Hola')\n",
        "  elif lang == 'fr':\n",
        "    print('Bonjour')\n",
        "  else:\n",
        "    print('Hello')\n",
        "  x = 10\n",
        "  print(x)\n",
        "\n",
        "res = greet('en')\n",
        "print(type(res))"
      ],
      "metadata": {
        "colab": {
          "base_uri": "https://localhost:8080/"
        },
        "id": "NV5TIYlgUJY4",
        "outputId": "9663bfa8-f255-4ce1-dc96-c5e53925efcc"
      },
      "execution_count": null,
      "outputs": [
        {
          "output_type": "stream",
          "name": "stdout",
          "text": [
            "Hello\n",
            "10\n",
            "<class 'NoneType'>\n"
          ]
        }
      ]
    },
    {
      "cell_type": "markdown",
      "source": [
        "##Рекурсивные функции"
      ],
      "metadata": {
        "id": "nReY9Xk7uHW2"
      }
    },
    {
      "cell_type": "code",
      "source": [
        "def fibonachi(i):\n",
        "  if i < 0: return False\n",
        "  if i <= 1: return i\n",
        "  return fibonachi(i-1)+fibonachi(i-2)"
      ],
      "metadata": {
        "id": "tr72g4xTuJ3a"
      },
      "execution_count": null,
      "outputs": []
    },
    {
      "cell_type": "code",
      "source": [
        "fibonachi(6)"
      ],
      "metadata": {
        "colab": {
          "base_uri": "https://localhost:8080/"
        },
        "id": "ijaQyjbRu4Zp",
        "outputId": "5c23976e-eef0-4a0e-9896-eea1a5649d2f"
      },
      "execution_count": null,
      "outputs": [
        {
          "output_type": "execute_result",
          "data": {
            "text/plain": [
              "8"
            ]
          },
          "metadata": {},
          "execution_count": 2
        }
      ]
    },
    {
      "cell_type": "markdown",
      "source": [
        "#Файлы и работа с ними\n",
        "Существует два типа файлов:\n",
        "- текстовые;\n",
        "- двоичные.\n",
        "\n",
        "При записи на определенный носитель информации все файлы являются двоичными."
      ],
      "metadata": {
        "id": "eWj-AjRDEcXv"
      }
    },
    {
      "cell_type": "markdown",
      "metadata": {
        "id": "a8VbNv_28VsS"
      },
      "source": [
        "##Opening a File\n",
        "- Before we can read the contents of the file we must tell Python which file we are going to work with and what we will be doing with the file\n",
        "- This is done with the `open()` function\n",
        "- `open()` returns a “file handle” - a variable used to perform operations on the file\n",
        "- Kind of like “File -> Open” in a Word Processor\n",
        "- `open(filename, mode)` returns a handle use to manipulate the file\n",
        "filename is a string\n",
        "- mode is optional and should be `'r'` if we are planning reading the file and `'w'` if we are going to write to the file.\n",
        "\n",
        "See more http://docs.python.org/lib/built-in-funcs.html\n",
        "\n"
      ]
    },
    {
      "cell_type": "code",
      "metadata": {
        "colab": {
          "base_uri": "https://localhost:8080/"
        },
        "id": "hZ3MVrWE4okg",
        "outputId": "e5b2e649-271c-44de-8f08-d97485a9f34d"
      },
      "source": [
        "!pwd"
      ],
      "execution_count": null,
      "outputs": [
        {
          "output_type": "stream",
          "name": "stdout",
          "text": [
            "/content\n"
          ]
        }
      ]
    },
    {
      "cell_type": "code",
      "metadata": {
        "colab": {
          "base_uri": "https://localhost:8080/"
        },
        "id": "gFISt0uyHJT4",
        "outputId": "b34f5d47-5227-4864-aaa6-0960350481ee"
      },
      "source": [
        "! gdown --id 1_ZAms0tyCZXwdU36Li5xUwArU3vyhZb8"
      ],
      "execution_count": null,
      "outputs": [
        {
          "output_type": "stream",
          "name": "stdout",
          "text": [
            "/usr/local/lib/python3.7/dist-packages/gdown/cli.py:131: FutureWarning: Option `--id` was deprecated in version 4.3.1 and will be removed in 5.0. You don't need to pass it anymore to use a file ID.\n",
            "  category=FutureWarning,\n",
            "Downloading...\n",
            "From: https://drive.google.com/uc?id=1_ZAms0tyCZXwdU36Li5xUwArU3vyhZb8\n",
            "To: /content/mbox.txt\n",
            "100% 47.0/47.0 [00:00<00:00, 74.8kB/s]\n"
          ]
        }
      ]
    },
    {
      "cell_type": "code",
      "metadata": {
        "id": "EdB_oaglkfRu",
        "colab": {
          "base_uri": "https://localhost:8080/"
        },
        "outputId": "c128bc26-fa2a-4481-8834-2d2b11685805"
      },
      "source": [
        "fhand = open('mbox.txt', 'r')\n",
        "print(fhand)"
      ],
      "execution_count": null,
      "outputs": [
        {
          "output_type": "stream",
          "name": "stdout",
          "text": [
            "<_io.TextIOWrapper name='mbox.txt' mode='r' encoding='UTF-8'>\n"
          ]
        }
      ]
    },
    {
      "cell_type": "markdown",
      "metadata": {
        "id": "p4jH31wqDfe2"
      },
      "source": [
        "![image.png](data:image/png;base64,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)"
      ]
    },
    {
      "cell_type": "markdown",
      "metadata": {
        "id": "H06SXLtjh4CX"
      },
      "source": [
        "##Closing a File\n",
        "- When we are done with performing operations on the file, we need to properly *close* the file.\n",
        "- *Closing* a file will free up the resources that were tied with the file. It is done using the `close()` method available in Python.\n",
        "- Python has a *garbage collector* to clean up unreferenced objects but we must not rely on it to close the file."
      ]
    },
    {
      "cell_type": "code",
      "metadata": {
        "id": "Muvv4X26iGxS"
      },
      "source": [
        "fhand.close()"
      ],
      "execution_count": null,
      "outputs": []
    },
    {
      "cell_type": "markdown",
      "metadata": {
        "id": "hZx2iaDUict-"
      },
      "source": [
        "### `with` statement\n",
        "- The best way to *close* a file is by using the `with` statement. This ensures that the file is *closed* when the block inside the `with` statement is exited.\n",
        "- **We don't need to explicitly call the `close()` method. It is done internally.**"
      ]
    },
    {
      "cell_type": "code",
      "metadata": {
        "colab": {
          "base_uri": "https://localhost:8080/"
        },
        "id": "Qp3dXZFWi39g",
        "outputId": "b827a6db-209f-4636-d5af-d7f4894fcea4"
      },
      "source": [
        "with open('mbox.txt', 'r') as f:\n",
        "  print(f)\n",
        "\n",
        "#f = open('mbox.txt', 'r')\n",
        "#print(f)\n",
        "#f.close()"
      ],
      "execution_count": null,
      "outputs": [
        {
          "output_type": "stream",
          "name": "stdout",
          "text": [
            "<_io.TextIOWrapper name='mbox.txt' mode='r' encoding='UTF-8'>\n"
          ]
        }
      ]
    },
    {
      "cell_type": "markdown",
      "metadata": {
        "id": "GVL-H_WqhLI-"
      },
      "source": [
        "##Reading a File\n",
        "- To *read* a file in Python, we must open the file in reading `'r'` mode.\n",
        "- There are various methods available for this purpose: `read()`, `readline()`, `readlines()`:\n",
        "  - `read()` reads in the rest till end of file\n",
        "  - `readline()` reads the next line\n",
        "  - `readlines()` reads all lines and returns as a list of string\n",
        "- We can read a file *line-by-line* using a `for` *loop*. This is both efficient and fast."
      ]
    },
    {
      "cell_type": "code",
      "metadata": {
        "colab": {
          "base_uri": "https://localhost:8080/"
        },
        "id": "DzVRh7ELpEGP",
        "outputId": "295a38ed-5259-4557-fd4d-8b7cc301b76a"
      },
      "source": [
        "with open('mbox.txt', 'r') as f:\n",
        "  print(f.read())"
      ],
      "execution_count": null,
      "outputs": [
        {
          "output_type": "stream",
          "name": "stdout",
          "text": [
            "Hello world!\n",
            "My name is Bob.\n",
            "I have a dog Max.\n",
            "\n"
          ]
        }
      ]
    },
    {
      "cell_type": "code",
      "metadata": {
        "id": "-g0jYYmMZoxE",
        "colab": {
          "base_uri": "https://localhost:8080/"
        },
        "outputId": "77c1025a-41a0-4522-ee6d-3624bafadb53"
      },
      "source": [
        "with open('mbox.txt', 'r') as f:\n",
        "  print(f.read(200))"
      ],
      "execution_count": null,
      "outputs": [
        {
          "output_type": "stream",
          "name": "stdout",
          "text": [
            "Hello world!\n",
            "My name is Bob.\n",
            "I have a dog Max.\n",
            "\n"
          ]
        }
      ]
    },
    {
      "cell_type": "code",
      "metadata": {
        "id": "jZCOS6goteAE",
        "colab": {
          "base_uri": "https://localhost:8080/"
        },
        "outputId": "e1f1d145-b411-44aa-fc08-4ba7169b1541"
      },
      "source": [
        "with open('mbox.txt', 'r') as f:\n",
        "  print(f.read(4))\n",
        "  print(f.read(5))\n",
        "  print(f.read())"
      ],
      "execution_count": null,
      "outputs": [
        {
          "output_type": "stream",
          "name": "stdout",
          "text": [
            "Hell\n",
            "o wor\n",
            "ld!\n",
            "My name is Bob.\n",
            "I have a dog Max.\n",
            "\n"
          ]
        }
      ]
    },
    {
      "cell_type": "code",
      "metadata": {
        "id": "hjxuuewgteCR",
        "colab": {
          "base_uri": "https://localhost:8080/"
        },
        "outputId": "b2fac90c-ffef-410e-aa30-ba2433d4cc7c"
      },
      "source": [
        "with open('mbox.txt', 'r') as f:\n",
        "  print(f.readline())\n",
        "  print(f.readline())"
      ],
      "execution_count": null,
      "outputs": [
        {
          "output_type": "stream",
          "name": "stdout",
          "text": [
            "Hello world!\n",
            "\n",
            "My name is Bob.\n",
            "\n"
          ]
        }
      ]
    },
    {
      "cell_type": "code",
      "metadata": {
        "id": "05aQRTLqQSeN",
        "colab": {
          "base_uri": "https://localhost:8080/"
        },
        "outputId": "9b72b4c5-3758-4261-cddd-8c56fcfe90e2"
      },
      "source": [
        "with open('mbox.txt', 'r') as f:\n",
        "  d = f.readlines()\n",
        "print(d[2])"
      ],
      "execution_count": null,
      "outputs": [
        {
          "output_type": "stream",
          "name": "stdout",
          "text": [
            "I have a dog Max.\n",
            "\n"
          ]
        }
      ]
    },
    {
      "cell_type": "code",
      "metadata": {
        "colab": {
          "base_uri": "https://localhost:8080/"
        },
        "id": "uyh0ZHzSsBFO",
        "outputId": "99a530ee-e0a1-4216-e00c-f6ab7cc029ff"
      },
      "source": [
        "with open('mbox.txt', 'r') as f:\n",
        "  for line in f:\n",
        "    print(line)\n",
        "\n",
        "print()"
      ],
      "execution_count": null,
      "outputs": [
        {
          "output_type": "stream",
          "name": "stdout",
          "text": [
            "Hello world!\n",
            "\n",
            "My name is Bob.\n",
            "\n",
            "I have a dog Max.\n",
            "\n"
          ]
        }
      ]
    },
    {
      "cell_type": "markdown",
      "metadata": {
        "id": "qX7pAHJssQWu"
      },
      "source": [
        "##Writing to a File\n",
        "- In order to write into a file in Python, we need to open it in write `'w'`, append `'a'` or exclusive creation `'x'` mode.\n",
        "- `'w'` mode will create a **new** file if it is not exists.\n",
        "- We need to be **careful** with the `'w'` mode, as it will **overwrite** into the file if it already exists. **Due to this, all the previous data are erased.**\n",
        "- Writing a string or sequence of bytes (for binary files) is done using the `write()` method. This method returns the number of characters written to the file."
      ]
    },
    {
      "cell_type": "code",
      "metadata": {
        "id": "Ttd-GN2msIWj"
      },
      "source": [
        "with open('mbox_1.txt','w') as f:\n",
        "   f.write(\"my first file\\n\")\n",
        "   f.write(\"This file\\n\\n\")\n",
        "   f.write(\"contains four lines\\n\")"
      ],
      "execution_count": null,
      "outputs": []
    },
    {
      "cell_type": "code",
      "metadata": {
        "id": "f23EmTas9CMH"
      },
      "source": [
        "with open('mbox_1.txt','a') as f:\n",
        "   f.write(\"my first file mbox_1\\n\")\n",
        "   f.write(\"This file mbox_1\\n\\n\")\n",
        "   f.write(\"contains four lines\\n\")"
      ],
      "execution_count": null,
      "outputs": []
    },
    {
      "cell_type": "markdown",
      "source": [
        "##Практический пример из анализа данных в биологии\n",
        "Необходимо получить только “коровую” часть последовательностей, т.е. обрезать по 10 аминокислот с каждого конца."
      ],
      "metadata": {
        "id": "PjNhoTWGX5V2"
      }
    },
    {
      "cell_type": "code",
      "metadata": {
        "id": "WOTpEstHfvZG",
        "colab": {
          "base_uri": "https://localhost:8080/"
        },
        "outputId": "f78df38a-ff02-442f-bd2d-ebfd11ee8de4"
      },
      "source": [
        "! gdown --id 10Yb85s2JTqheJA6JlrUu1BCg706PUxyv"
      ],
      "execution_count": null,
      "outputs": [
        {
          "output_type": "stream",
          "name": "stdout",
          "text": [
            "/usr/local/lib/python3.10/dist-packages/gdown/cli.py:121: FutureWarning: Option `--id` was deprecated in version 4.3.1 and will be removed in 5.0. You don't need to pass it anymore to use a file ID.\n",
            "  warnings.warn(\n",
            "Downloading...\n",
            "From: https://drive.google.com/uc?id=10Yb85s2JTqheJA6JlrUu1BCg706PUxyv\n",
            "To: /content/my_fasta.fasta\n",
            "100% 1.65k/1.65k [00:00<00:00, 6.45MB/s]\n"
          ]
        }
      ]
    },
    {
      "cell_type": "code",
      "source": [
        "with open('my_fasta.fasta', 'r') as f, open('new_fasta.fasta', 'w') as new_f:\n",
        "  for line in f.read().split('>')[1:]:\n",
        "    line_split = line.split('\\n', 1)\n",
        "    seq = line_split[1].replace('\\n', '')\n",
        "    new_f.write(f'>{line_split[0]}\\n')\n",
        "    new_f.write(f'{seq[11:-10]}\\n')"
      ],
      "metadata": {
        "id": "FofhnJ4dYLqF"
      },
      "execution_count": null,
      "outputs": []
    },
    {
      "cell_type": "code",
      "source": [],
      "metadata": {
        "id": "_x9Nb7GKYY9i"
      },
      "execution_count": null,
      "outputs": []
    }
  ]
}
