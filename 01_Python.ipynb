{
  "nbformat": 4,
  "nbformat_minor": 0,
  "metadata": {
    "colab": {
      "provenance": [],
      "include_colab_link": true
    },
    "kernelspec": {
      "name": "python3",
      "display_name": "Python 3"
    },
    "language_info": {
      "name": "python"
    }
  },
  "cells": [
    {
      "cell_type": "markdown",
      "metadata": {
        "id": "view-in-github",
        "colab_type": "text"
      },
      "source": [
        "<a href=\"https://colab.research.google.com/github/florenskaial118/ML/blob/main/01_Python.ipynb\" target=\"_parent\"><img src=\"https://colab.research.google.com/assets/colab-badge.svg\" alt=\"Open In Colab\"/></a>"
      ]
    },
    {
      "cell_type": "markdown",
      "source": [
        "#Введение в типы объектов Python\n",
        "\n",
        "В сценариях Python все есть объект. Встроенные типы данных:\n",
        "- Числа (int)\n",
        "- Строки (str)\n",
        "- Списки (list)\n",
        "- Словари (dict, OrderedDict)\n",
        "- Кортежи (tuple)\n",
        "- Файлы (handle)\n",
        "- Множества (set, Collections)\n",
        "- Булевы типы (bool)\n",
        "- Сами типы (int, str, list, dict, tuple, ...)\n",
        "- None, True, False\n",
        "- Типы программных единиц (функции, модули, классы)\n",
        "\n",
        "Источником типа является синтаксис.\n",
        "\n",
        "Сама переменная - это всего лишь ссылка на объект. Операция присваивания - это выделение памяти под хранение ссылки на некоторый объект.\n",
        "\n",
        "После объявления операции присваивания объект получает свой набор операций, характерный для его типа (**динамическая типизация**).\n",
        "\n",
        "Одни и те же операторы с разными типами делают разные операции (**полиморфизм**)."
      ],
      "metadata": {
        "id": "AGooqVj3W0sV"
      }
    },
    {
      "cell_type": "code",
      "source": [
        "type(None)"
      ],
      "metadata": {
        "colab": {
          "base_uri": "https://localhost:8080/"
        },
        "id": "PkKikXH6Ut0j",
        "outputId": "9ad5b01c-7f23-45c9-fab7-9f91df029813"
      },
      "execution_count": null,
      "outputs": [
        {
          "output_type": "execute_result",
          "data": {
            "text/plain": [
              "NoneType"
            ]
          },
          "metadata": {},
          "execution_count": 1
        }
      ]
    },
    {
      "cell_type": "code",
      "source": [
        "type(str), type(int)"
      ],
      "metadata": {
        "colab": {
          "base_uri": "https://localhost:8080/"
        },
        "id": "6r4emPTDjW8M",
        "outputId": "c67c9c08-5a0a-4f3d-a74a-1be6e93a2726"
      },
      "execution_count": null,
      "outputs": [
        {
          "output_type": "execute_result",
          "data": {
            "text/plain": [
              "(type, type)"
            ]
          },
          "metadata": {},
          "execution_count": 4
        }
      ]
    },
    {
      "cell_type": "code",
      "source": [
        "type(True)"
      ],
      "metadata": {
        "colab": {
          "base_uri": "https://localhost:8080/"
        },
        "id": "xvp0sYADjfQa",
        "outputId": "1f9dc28e-40b9-4181-c4e8-f12f16873710"
      },
      "execution_count": null,
      "outputs": [
        {
          "output_type": "execute_result",
          "data": {
            "text/plain": [
              "bool"
            ]
          },
          "metadata": {},
          "execution_count": 5
        }
      ]
    },
    {
      "cell_type": "markdown",
      "source": [
        "#Чем отличаются операторы “==” и “is”?\n",
        "\n",
        "Оператор “is” сравнивает **идентификаторы** двух объектов, а оператор “==” сравнивает **значения** двух объектов.\n",
        "\n",
        "Оператор “is” принимает значение true, если переменные по обе стороны оператора указывают на **один и тот же объект**, и false в противном случае.\n",
        "\n",
        "Оператор “==” используется, когда **значения** двух операндов равны, тогда условие становится истинным."
      ],
      "metadata": {
        "id": "yAHTIlAXjSzs"
      }
    },
    {
      "cell_type": "code",
      "source": [
        "a = 10\n",
        "b = 100/10\n",
        "c = 10\n",
        "print(a is b)\n",
        "print(a == b)\n",
        "print(a is c)"
      ],
      "metadata": {
        "colab": {
          "base_uri": "https://localhost:8080/"
        },
        "id": "eCZY3LCfj6TH",
        "outputId": "60b822f9-fa6e-4721-c688-b8493fd6b6fd"
      },
      "execution_count": null,
      "outputs": [
        {
          "output_type": "stream",
          "name": "stdout",
          "text": [
            "False\n",
            "True\n",
            "True\n"
          ]
        }
      ]
    },
    {
      "cell_type": "code",
      "source": [
        "id(a), id(b)"
      ],
      "metadata": {
        "colab": {
          "base_uri": "https://localhost:8080/"
        },
        "id": "g7ED9Wz7kCVx",
        "outputId": "e194e578-4b09-4ce6-dcb2-61a970d2e696"
      },
      "execution_count": null,
      "outputs": [
        {
          "output_type": "execute_result",
          "data": {
            "text/plain": [
              "(11122880, 139675133429680)"
            ]
          },
          "metadata": {},
          "execution_count": 9
        }
      ]
    },
    {
      "cell_type": "code",
      "source": [
        "a = 'hello'\n",
        "b = 'hello'\n",
        "print(a is b)"
      ],
      "metadata": {
        "colab": {
          "base_uri": "https://localhost:8080/"
        },
        "id": "5p-XmOKaW0Gi",
        "outputId": "6663a438-0fd3-4288-caf3-f71fd85249c7"
      },
      "execution_count": null,
      "outputs": [
        {
          "output_type": "stream",
          "name": "stdout",
          "text": [
            "True\n"
          ]
        }
      ]
    },
    {
      "cell_type": "code",
      "source": [
        "id(a), id(b)"
      ],
      "metadata": {
        "colab": {
          "base_uri": "https://localhost:8080/"
        },
        "id": "jM8WrUXYX_KV",
        "outputId": "c08d8842-06e2-49e1-8287-882f83bf7d20"
      },
      "execution_count": null,
      "outputs": [
        {
          "output_type": "execute_result",
          "data": {
            "text/plain": [
              "(139675344626544, 139675344626544)"
            ]
          },
          "metadata": {},
          "execution_count": 3
        }
      ]
    },
    {
      "cell_type": "markdown",
      "source": [
        "#Уместны ли кавычки в кавычках?"
      ],
      "metadata": {
        "id": "Bhi5k-q033F1"
      }
    },
    {
      "cell_type": "code",
      "source": [
        "print('It's my dog')"
      ],
      "metadata": {
        "colab": {
          "base_uri": "https://localhost:8080/",
          "height": 132
        },
        "id": "vKcdYLDX4kKu",
        "outputId": "bfef2dbe-77af-4e27-cd0c-4bf3166cee92"
      },
      "execution_count": null,
      "outputs": [
        {
          "output_type": "error",
          "ename": "SyntaxError",
          "evalue": "ignored",
          "traceback": [
            "\u001b[0;36m  File \u001b[0;32m\"<ipython-input-14-2cefc6b1b578>\"\u001b[0;36m, line \u001b[0;32m1\u001b[0m\n\u001b[0;31m    print('It's my dog')\u001b[0m\n\u001b[0m              ^\u001b[0m\n\u001b[0;31mSyntaxError\u001b[0m\u001b[0;31m:\u001b[0m invalid syntax\n"
          ]
        }
      ]
    },
    {
      "cell_type": "code",
      "source": [
        "print(\"It's my dog\")"
      ],
      "metadata": {
        "colab": {
          "base_uri": "https://localhost:8080/"
        },
        "id": "B2IdP9-F32ca",
        "outputId": "2c71e37a-16d6-4efe-ee88-4e4a617effc8"
      },
      "execution_count": null,
      "outputs": [
        {
          "output_type": "stream",
          "name": "stdout",
          "text": [
            "It's my dog\n"
          ]
        }
      ]
    },
    {
      "cell_type": "code",
      "source": [
        "print(\"It's my dog. She said \\\"No\\\"\")"
      ],
      "metadata": {
        "colab": {
          "base_uri": "https://localhost:8080/"
        },
        "id": "D3u5DzFA6Twt",
        "outputId": "11a58eb2-7f0c-4f89-85f7-ce093bd429c7"
      },
      "execution_count": null,
      "outputs": [
        {
          "output_type": "stream",
          "name": "stdout",
          "text": [
            "It's my dog. She said \"No\"\n"
          ]
        }
      ]
    },
    {
      "cell_type": "markdown",
      "source": [
        "#Полезные выражения\n",
        "##Оператор if ... esle ..."
      ],
      "metadata": {
        "id": "YWJ5mpYanEaQ"
      }
    },
    {
      "cell_type": "code",
      "execution_count": null,
      "metadata": {
        "id": "gDe5eL2_nCZL"
      },
      "outputs": [],
      "source": [
        "x, b, c = 108, 10, 8\n",
        "cond = x < 100\n",
        "a = b if cond else c\n",
        "a"
      ]
    },
    {
      "cell_type": "code",
      "source": [
        "stroka = 'I love programming'\n",
        "s = 't' if 'gr' in stroka else 'f'\n",
        "s"
      ],
      "metadata": {
        "colab": {
          "base_uri": "https://localhost:8080/",
          "height": 36
        },
        "id": "H0J5RHesnl9w",
        "outputId": "279ad48e-5655-4cc2-c244-c1a99b389a71"
      },
      "execution_count": null,
      "outputs": [
        {
          "output_type": "execute_result",
          "data": {
            "text/plain": [
              "'t'"
            ],
            "application/vnd.google.colaboratory.intrinsic+json": {
              "type": "string"
            }
          },
          "metadata": {},
          "execution_count": 2
        }
      ]
    },
    {
      "cell_type": "code",
      "source": [
        "# x, b, c = 108, 10, 8\n",
        "# x, b, c = 68, 10, 8\n",
        "x, b, c = 158, 10, 8\n",
        "cond = x < 100\n",
        "cond2 = x > 150\n",
        "a = b if cond else c if cond2 else b*c\n",
        "a"
      ],
      "metadata": {
        "colab": {
          "base_uri": "https://localhost:8080/"
        },
        "id": "9fJTyb9-n_Uf",
        "outputId": "2f91d799-64b0-4218-9125-134803400937"
      },
      "execution_count": null,
      "outputs": [
        {
          "output_type": "execute_result",
          "data": {
            "text/plain": [
              "8"
            ]
          },
          "metadata": {},
          "execution_count": 5
        }
      ]
    },
    {
      "cell_type": "markdown",
      "source": [
        "##Операторы повтора"
      ],
      "metadata": {
        "id": "PO5FimBipGvI"
      }
    },
    {
      "cell_type": "code",
      "source": [
        "for i in 1, 2, 3, 'one', 'two', 'three':\n",
        "    print(i)"
      ],
      "metadata": {
        "colab": {
          "base_uri": "https://localhost:8080/"
        },
        "id": "VUVJBq42or3C",
        "outputId": "0ddc863d-de91-46e3-8608-3009be5bf4c9"
      },
      "execution_count": null,
      "outputs": [
        {
          "output_type": "stream",
          "name": "stdout",
          "text": [
            "1\n",
            "2\n",
            "3\n",
            "one\n",
            "two\n",
            "three\n"
          ]
        }
      ]
    },
    {
      "cell_type": "code",
      "source": [
        "for x in \"banana\":\n",
        "  print(x)"
      ],
      "metadata": {
        "colab": {
          "base_uri": "https://localhost:8080/"
        },
        "id": "UANWGVpMpxHu",
        "outputId": "ad7fc995-2f81-40f0-b2cb-c0078c8fa1b6"
      },
      "execution_count": null,
      "outputs": [
        {
          "output_type": "stream",
          "name": "stdout",
          "text": [
            "b\n",
            "a\n",
            "n\n",
            "a\n",
            "n\n",
            "a\n"
          ]
        }
      ]
    },
    {
      "cell_type": "markdown",
      "source": [
        "##for ... else ...\n",
        "Циклы for также имеют предложение else, с которым большинство из нас не знакомо. Предложение else выполняется после нормального завершения цикла. Это означает, что цикл не встречал оператора break. Они действительно полезны, когда вы понимаете, где их использовать.\n",
        "\n",
        "Общая конструкция состоит в том, чтобы запустить цикл и найти элемент. Если элемент найден, мы выходим из цикла с помощью оператора break. Есть два сценария, в которых цикл может закончиться. Первый — когда элемент найден и обнаружен разрыв. Второй сценарий заключается в том, что цикл завершается, не встречая оператора break. Теперь мы можем захотеть узнать, какая из них является причиной завершения цикла. Один из способов — установить флаг, а затем проверить его после окончания цикла. Другой — использовать предложение else.\n",
        "\n",
        "Подробнее: https://book.pythontips.com/en/latest/for_-_else.html"
      ],
      "metadata": {
        "id": "gqBpb723s7JP"
      }
    },
    {
      "cell_type": "code",
      "source": [
        "for n in range(2, 10):\n",
        "  for x in range(2, n):\n",
        "    if n % x == 0:\n",
        "      print(n, 'equals', x, '*', n/x)\n",
        "      break\n",
        "  else:\n",
        "    # loop fell through without finding a factor\n",
        "    print(n, 'is a prime number')"
      ],
      "metadata": {
        "colab": {
          "base_uri": "https://localhost:8080/"
        },
        "id": "mvP20-iwpCy4",
        "outputId": "d1730595-9dd2-4998-8e8f-cb41fbc56b39"
      },
      "execution_count": null,
      "outputs": [
        {
          "output_type": "stream",
          "name": "stdout",
          "text": [
            "2 is a prime number\n",
            "3 is a prime number\n",
            "4 equals 2 * 2.0\n",
            "5 is a prime number\n",
            "6 equals 2 * 3.0\n",
            "7 is a prime number\n",
            "8 equals 2 * 4.0\n",
            "9 equals 3 * 3.0\n"
          ]
        }
      ]
    },
    {
      "cell_type": "markdown",
      "source": [
        "##while ... else ..."
      ],
      "metadata": {
        "id": "slpubMGruBgo"
      }
    },
    {
      "cell_type": "code",
      "source": [
        "s = 0\n",
        "i = int(input())\n",
        "while i < 266:\n",
        "  i = int(input())\n",
        "  if i % 10 == 0: break\n",
        "  s += i\n",
        "else:\n",
        "  print(f\"s = {s}\")"
      ],
      "metadata": {
        "colab": {
          "base_uri": "https://localhost:8080/"
        },
        "id": "-Aycq8iLrdcl",
        "outputId": "f6279187-1763-4eac-dea4-0e8ffe984ed5"
      },
      "execution_count": null,
      "outputs": [
        {
          "name": "stdout",
          "output_type": "stream",
          "text": [
            "1\n",
            "2\n",
            "3\n",
            "100\n"
          ]
        }
      ]
    },
    {
      "cell_type": "markdown",
      "metadata": {
        "id": "Caxt0Au2dueA"
      },
      "source": [
        "#Справка\n",
        "- The Directory Function `dir()`\n",
        "- попробуйте также `help()`"
      ]
    },
    {
      "cell_type": "code",
      "metadata": {
        "colab": {
          "base_uri": "https://localhost:8080/"
        },
        "id": "4kTyYfGbdtjT",
        "outputId": "fea4530a-9a34-49cf-9b6b-0589347dad9a"
      },
      "source": [
        "stuff = 'Hello world'\n",
        "print(type(stuff))\n",
        "print(dir(stuff))"
      ],
      "execution_count": null,
      "outputs": [
        {
          "output_type": "stream",
          "name": "stdout",
          "text": [
            "<class 'str'>\n",
            "['__add__', '__class__', '__contains__', '__delattr__', '__dir__', '__doc__', '__eq__', '__format__', '__ge__', '__getattribute__', '__getitem__', '__getnewargs__', '__gt__', '__hash__', '__init__', '__init_subclass__', '__iter__', '__le__', '__len__', '__lt__', '__mod__', '__mul__', '__ne__', '__new__', '__reduce__', '__reduce_ex__', '__repr__', '__rmod__', '__rmul__', '__setattr__', '__sizeof__', '__str__', '__subclasshook__', 'capitalize', 'casefold', 'center', 'count', 'encode', 'endswith', 'expandtabs', 'find', 'format', 'format_map', 'index', 'isalnum', 'isalpha', 'isascii', 'isdecimal', 'isdigit', 'isidentifier', 'islower', 'isnumeric', 'isprintable', 'isspace', 'istitle', 'isupper', 'join', 'ljust', 'lower', 'lstrip', 'maketrans', 'partition', 'replace', 'rfind', 'rindex', 'rjust', 'rpartition', 'rsplit', 'rstrip', 'split', 'splitlines', 'startswith', 'strip', 'swapcase', 'title', 'translate', 'upper', 'zfill']\n"
          ]
        }
      ]
    },
    {
      "cell_type": "code",
      "metadata": {
        "colab": {
          "base_uri": "https://localhost:8080/"
        },
        "id": "WJgiOJusZIwJ",
        "outputId": "16ff3991-a5ba-491d-ec61-c7247485e182"
      },
      "source": [
        "type(4)"
      ],
      "execution_count": null,
      "outputs": [
        {
          "output_type": "execute_result",
          "data": {
            "text/plain": [
              "int"
            ]
          },
          "metadata": {},
          "execution_count": 16
        }
      ]
    },
    {
      "cell_type": "code",
      "metadata": {
        "colab": {
          "base_uri": "https://localhost:8080/"
        },
        "id": "HBXD4SAzZV8Y",
        "outputId": "32ced50e-5cbf-4c2f-a616-bb74814c1107"
      },
      "source": [
        "dir(4)"
      ],
      "execution_count": null,
      "outputs": [
        {
          "output_type": "execute_result",
          "data": {
            "text/plain": [
              "['__abs__',\n",
              " '__add__',\n",
              " '__and__',\n",
              " '__bool__',\n",
              " '__ceil__',\n",
              " '__class__',\n",
              " '__delattr__',\n",
              " '__dir__',\n",
              " '__divmod__',\n",
              " '__doc__',\n",
              " '__eq__',\n",
              " '__float__',\n",
              " '__floor__',\n",
              " '__floordiv__',\n",
              " '__format__',\n",
              " '__ge__',\n",
              " '__getattribute__',\n",
              " '__getnewargs__',\n",
              " '__gt__',\n",
              " '__hash__',\n",
              " '__index__',\n",
              " '__init__',\n",
              " '__init_subclass__',\n",
              " '__int__',\n",
              " '__invert__',\n",
              " '__le__',\n",
              " '__lshift__',\n",
              " '__lt__',\n",
              " '__mod__',\n",
              " '__mul__',\n",
              " '__ne__',\n",
              " '__neg__',\n",
              " '__new__',\n",
              " '__or__',\n",
              " '__pos__',\n",
              " '__pow__',\n",
              " '__radd__',\n",
              " '__rand__',\n",
              " '__rdivmod__',\n",
              " '__reduce__',\n",
              " '__reduce_ex__',\n",
              " '__repr__',\n",
              " '__rfloordiv__',\n",
              " '__rlshift__',\n",
              " '__rmod__',\n",
              " '__rmul__',\n",
              " '__ror__',\n",
              " '__round__',\n",
              " '__rpow__',\n",
              " '__rrshift__',\n",
              " '__rshift__',\n",
              " '__rsub__',\n",
              " '__rtruediv__',\n",
              " '__rxor__',\n",
              " '__setattr__',\n",
              " '__sizeof__',\n",
              " '__str__',\n",
              " '__sub__',\n",
              " '__subclasshook__',\n",
              " '__truediv__',\n",
              " '__trunc__',\n",
              " '__xor__',\n",
              " 'bit_length',\n",
              " 'conjugate',\n",
              " 'denominator',\n",
              " 'from_bytes',\n",
              " 'imag',\n",
              " 'numerator',\n",
              " 'real',\n",
              " 'to_bytes']"
            ]
          },
          "metadata": {},
          "execution_count": 17
        }
      ]
    },
    {
      "cell_type": "code",
      "metadata": {
        "id": "oh4qc-creZ0U"
      },
      "source": [
        "print(help(type(stuff)))"
      ],
      "execution_count": null,
      "outputs": []
    },
    {
      "cell_type": "markdown",
      "metadata": {
        "id": "8qRx92cUn5Bb"
      },
      "source": [
        "#Числовой тип данных и арифметические операторы\n",
        "- целые числа, десятичные дроби, рациональные числа, мнимые числа.\n",
        "- Арифметические операторы, `+`,`-`,`*`,`/`.\n",
        "- `**` возведение в степень\n",
        "- `//` целочисленое деление\n",
        "- `%` взятие остатка\n",
        "- есть модуль `math`\n"
      ]
    },
    {
      "cell_type": "code",
      "metadata": {
        "colab": {
          "base_uri": "https://localhost:8080/"
        },
        "id": "-bVIC-MReuw0",
        "outputId": "bdddabec-076e-464a-aebb-d900ef407e37"
      },
      "source": [
        "a = 10.5\n",
        "print(a+1)\n",
        "print(a/2)\n",
        "print(a**3)\n",
        "print(a//2)\n",
        "print(a%2)"
      ],
      "execution_count": null,
      "outputs": [
        {
          "output_type": "stream",
          "name": "stdout",
          "text": [
            "11.5\n",
            "5.25\n",
            "1157.625\n",
            "5.0\n",
            "0.5\n"
          ]
        }
      ]
    },
    {
      "cell_type": "markdown",
      "metadata": {
        "id": "m_lpsHOPxpVO"
      },
      "source": [
        "#Строковый тип данных и операции конкатенации\n",
        "- Строка - последовательность символов\n",
        "- Строка всегда указывается в кавычках  `‘Hello’ == “Hello”`\n",
        "- Оператор `+` означает конкатенацию\n",
        "- Если строка содержит числа или состоит только из числа она все равно остается строкой!\n",
        "- Вы можете попытаться привести строку к нужному типу, используя функцию для типизации, например `int()`\n"
      ]
    },
    {
      "cell_type": "markdown",
      "metadata": {
        "id": "uoYXW5bYPvvW"
      },
      "source": [
        "###Простые примеры"
      ]
    },
    {
      "cell_type": "code",
      "metadata": {
        "colab": {
          "base_uri": "https://localhost:8080/"
        },
        "id": "QBeDT71nfMA-",
        "outputId": "cc35160d-13c5-43ce-cea5-d93a8c3ba8a3"
      },
      "source": [
        "str1 = \"Hello\"\n",
        "str2 = 'there'\n",
        "bob = str1 + ' ' + str2\n",
        "print(bob)"
      ],
      "execution_count": null,
      "outputs": [
        {
          "output_type": "stream",
          "name": "stdout",
          "text": [
            "Hello there\n"
          ]
        }
      ]
    },
    {
      "cell_type": "code",
      "metadata": {
        "id": "TgYEpdH25hrZ"
      },
      "source": [
        "mystr = \"'hello'\""
      ],
      "execution_count": null,
      "outputs": []
    },
    {
      "cell_type": "code",
      "metadata": {
        "colab": {
          "base_uri": "https://localhost:8080/",
          "height": 185
        },
        "id": "4e1cUGDxfWi5",
        "outputId": "e85c221c-a12f-42dd-bbab-2fbac2148c98"
      },
      "source": [
        "# Пример иллюстрирует ошибку, которая возникает при попытке произвести операцию сложения с разными типами данных\n",
        "str3 = '123'\n",
        "str3 = str3 + 1"
      ],
      "execution_count": null,
      "outputs": [
        {
          "output_type": "error",
          "ename": "TypeError",
          "evalue": "ignored",
          "traceback": [
            "\u001b[0;31m---------------------------------------------------------------------------\u001b[0m",
            "\u001b[0;31mTypeError\u001b[0m                                 Traceback (most recent call last)",
            "\u001b[0;32m<ipython-input-11-a3c2e55be021>\u001b[0m in \u001b[0;36m<module>\u001b[0;34m\u001b[0m\n\u001b[1;32m      1\u001b[0m \u001b[0mstr3\u001b[0m \u001b[0;34m=\u001b[0m \u001b[0;34m'123'\u001b[0m\u001b[0;34m\u001b[0m\u001b[0;34m\u001b[0m\u001b[0m\n\u001b[0;32m----> 2\u001b[0;31m \u001b[0mstr3\u001b[0m \u001b[0;34m=\u001b[0m \u001b[0mstr3\u001b[0m \u001b[0;34m+\u001b[0m \u001b[0;36m1\u001b[0m\u001b[0;34m\u001b[0m\u001b[0;34m\u001b[0m\u001b[0m\n\u001b[0m",
            "\u001b[0;31mTypeError\u001b[0m: can only concatenate str (not \"int\") to str"
          ]
        }
      ]
    },
    {
      "cell_type": "code",
      "metadata": {
        "colab": {
          "base_uri": "https://localhost:8080/"
        },
        "id": "6g4-tBVqfiqJ",
        "outputId": "8d83e426-adb0-4584-938e-bcd27565b550"
      },
      "source": [
        "x = int(str3) + 1\n",
        "print(x)"
      ],
      "execution_count": null,
      "outputs": [
        {
          "output_type": "stream",
          "name": "stdout",
          "text": [
            "124\n"
          ]
        }
      ]
    },
    {
      "cell_type": "code",
      "metadata": {
        "colab": {
          "base_uri": "https://localhost:8080/"
        },
        "id": "14fVBPUffSU2",
        "outputId": "35f4af38-841e-4a49-c478-f845bcda0f11"
      },
      "source": [
        "d = 1\n",
        "x = str3 + str(d)\n",
        "print(x)"
      ],
      "execution_count": null,
      "outputs": [
        {
          "output_type": "stream",
          "name": "stdout",
          "text": [
            "1231\n"
          ]
        }
      ]
    },
    {
      "cell_type": "markdown",
      "metadata": {
        "id": "DFOotgeSyWQD"
      },
      "source": [
        "##Что внутри строк?\n",
        "- Используя *квадратные скобки* можно посмотреть на символ по его адресу (индексу) или нарезать.\n",
        "- Индекс может быть только целочисленным и **начинается с 0**.\n",
        "- Внутрь индекса можно подставлять выражения, которые будут подсчитываться “на лету”.\n",
        "- Индексация строк конечна. Вас ожидает `python error` при использовании индексов больше (или равные), чем длина строки."
      ]
    },
    {
      "cell_type": "markdown",
      "metadata": {
        "id": "rxQEJt9YRqPa"
      },
      "source": [
        "###Простые примеры"
      ]
    },
    {
      "cell_type": "code",
      "metadata": {
        "colab": {
          "base_uri": "https://localhost:8080/"
        },
        "id": "_azyWjwyfnwf",
        "outputId": "82a55d21-c3c3-4773-a8a6-e706e86b2e29"
      },
      "source": [
        "fruit = 'banana'\n",
        "letter = fruit[0]\n",
        "print('First letter: ' + letter)\n",
        "w = fruit[-3]\n",
        "print('Last letter: ' + w)"
      ],
      "execution_count": null,
      "outputs": [
        {
          "output_type": "stream",
          "name": "stdout",
          "text": [
            "First letter: b\n",
            "Last letter: a\n"
          ]
        }
      ]
    },
    {
      "cell_type": "code",
      "metadata": {
        "colab": {
          "base_uri": "https://localhost:8080/",
          "height": 163
        },
        "id": "fNSyZydSyjE0",
        "outputId": "73351c20-b996-484b-a4d7-0fd0bc66d0dc"
      },
      "source": [
        "print(fruit[10]) # так как длина слова 6 символов"
      ],
      "execution_count": null,
      "outputs": [
        {
          "output_type": "error",
          "ename": "IndexError",
          "evalue": "ignored",
          "traceback": [
            "\u001b[0;31m---------------------------------------------------------------------------\u001b[0m",
            "\u001b[0;31mIndexError\u001b[0m                                Traceback (most recent call last)",
            "\u001b[0;32m<ipython-input-34-e117f8bc838a>\u001b[0m in \u001b[0;36m<module>\u001b[0;34m()\u001b[0m\n\u001b[0;32m----> 1\u001b[0;31m \u001b[0mprint\u001b[0m\u001b[0;34m(\u001b[0m\u001b[0mzot\u001b[0m\u001b[0;34m[\u001b[0m\u001b[0;36m10\u001b[0m\u001b[0;34m]\u001b[0m\u001b[0;34m)\u001b[0m\u001b[0;34m\u001b[0m\u001b[0;34m\u001b[0m\u001b[0m\n\u001b[0m",
            "\u001b[0;31mIndexError\u001b[0m: string index out of range"
          ]
        }
      ]
    },
    {
      "cell_type": "code",
      "metadata": {
        "id": "MzI5GzIykch-"
      },
      "source": [
        "i = 2\n",
        "print(fruit[i])"
      ],
      "execution_count": null,
      "outputs": []
    },
    {
      "cell_type": "code",
      "metadata": {
        "colab": {
          "base_uri": "https://localhost:8080/"
        },
        "id": "yGPHa59u1XFK",
        "outputId": "81f5b3fe-bc78-40fd-b0fe-d454d9a63ee6"
      },
      "source": [
        "print(len(fruit))\n",
        "\n",
        "#two equivalent expressions\n",
        "print(fruit[-1])\n",
        "print(fruit[len(fruit)-1])"
      ],
      "execution_count": null,
      "outputs": [
        {
          "output_type": "stream",
          "name": "stdout",
          "text": [
            "6\n",
            "a\n",
            "a\n"
          ]
        }
      ]
    },
    {
      "cell_type": "code",
      "metadata": {
        "colab": {
          "base_uri": "https://localhost:8080/"
        },
        "id": "YMKXNad01Kxh",
        "outputId": "702c3f43-0186-4343-ed4e-92ad44af9dbc"
      },
      "source": [
        "nums = '012345'\n",
        "print(nums[1:3]) # [1,3)\n",
        "print(nums[2:5])\n",
        "print(nums[1:])\n",
        "print(nums[:3])\n",
        "print(nums[:-2])\n",
        "print(nums[:-2:2])\n",
        "print(nums[5:1:-1])"
      ],
      "execution_count": null,
      "outputs": [
        {
          "output_type": "stream",
          "name": "stdout",
          "text": [
            "12\n",
            "234\n",
            "12345\n",
            "012\n",
            "0123\n",
            "02\n",
            "5432\n"
          ]
        }
      ]
    },
    {
      "cell_type": "markdown",
      "metadata": {
        "id": "v7Qbvx4C3SVX"
      },
      "source": [
        "##Строки можно складывать и умножать\n",
        "- Оператор `+` это оператор конкатенации\n",
        "- Оператор `*` это оператор повтора"
      ]
    },
    {
      "cell_type": "code",
      "metadata": {
        "colab": {
          "base_uri": "https://localhost:8080/"
        },
        "id": "9KYSV18j2yLe",
        "outputId": "2cf89a6e-63ce-44a8-ae05-d06eff963ced"
      },
      "source": [
        "a = 'Hello'\n",
        "b = a + 'There'\n",
        "print(b)\n",
        "\n",
        "a = 'Hello'\n",
        "b = a * 3\n",
        "print(b)"
      ],
      "execution_count": null,
      "outputs": [
        {
          "output_type": "stream",
          "name": "stdout",
          "text": [
            "HelloThere\n",
            "HelloHelloHello\n"
          ]
        }
      ]
    },
    {
      "cell_type": "markdown",
      "metadata": {
        "id": "ptbUamCQ3tB1"
      },
      "source": [
        "##Строки неизменяемы (!)\n",
        "- Все объекты в языке делятся на изменяемые и неизменяемые\n",
        "- При желании можно воспользоваться нарезанием строки или специальными встроенными методами (см. ниже)\n"
      ]
    },
    {
      "cell_type": "code",
      "metadata": {
        "colab": {
          "base_uri": "https://localhost:8080/",
          "height": 180
        },
        "id": "LoF_RRGX310-",
        "outputId": "9e6a495f-12fa-4d7d-81b1-2202a6a625e1"
      },
      "source": [
        "a = 'Hello'\n",
        "a[0]='C'"
      ],
      "execution_count": null,
      "outputs": [
        {
          "output_type": "error",
          "ename": "TypeError",
          "evalue": "ignored",
          "traceback": [
            "\u001b[0;31m---------------------------------------------------------------------------\u001b[0m",
            "\u001b[0;31mTypeError\u001b[0m                                 Traceback (most recent call last)",
            "\u001b[0;32m<ipython-input-41-f5049e94d9ad>\u001b[0m in \u001b[0;36m<module>\u001b[0;34m()\u001b[0m\n\u001b[1;32m      1\u001b[0m \u001b[0ma\u001b[0m \u001b[0;34m=\u001b[0m \u001b[0;34m'Hello'\u001b[0m\u001b[0;34m\u001b[0m\u001b[0;34m\u001b[0m\u001b[0m\n\u001b[0;32m----> 2\u001b[0;31m \u001b[0ma\u001b[0m\u001b[0;34m[\u001b[0m\u001b[0;36m0\u001b[0m\u001b[0;34m]\u001b[0m\u001b[0;34m=\u001b[0m\u001b[0;34m'C'\u001b[0m\u001b[0;34m\u001b[0m\u001b[0;34m\u001b[0m\u001b[0m\n\u001b[0m",
            "\u001b[0;31mTypeError\u001b[0m: 'str' object does not support item assignment"
          ]
        }
      ]
    },
    {
      "cell_type": "code",
      "metadata": {
        "colab": {
          "base_uri": "https://localhost:8080/"
        },
        "id": "W8j5gLe734yd",
        "outputId": "7efca6eb-3f7b-4340-c7bf-e50641020bf0"
      },
      "source": [
        "b = 'C' + a[1:]\n",
        "print(b)"
      ],
      "execution_count": null,
      "outputs": [
        {
          "output_type": "stream",
          "name": "stdout",
          "text": [
            "Cello\n"
          ]
        }
      ]
    },
    {
      "cell_type": "markdown",
      "metadata": {
        "id": "Ypy6KjHc4Plo"
      },
      "source": [
        "##Оператор `in`\n",
        "- Ключевое слово `in` может быть оператором проверки того, находится ли одна строка в другой, или нет\n",
        "- В этом случае такое выражение вернет логическое `True` или `False` и в дальнейшем может использоваться в условных выражениях `if`"
      ]
    },
    {
      "cell_type": "code",
      "metadata": {
        "colab": {
          "base_uri": "https://localhost:8080/"
        },
        "id": "Dxm_CTey392L",
        "outputId": "3db8034c-86bf-48ac-b1b2-938aa8571f9d"
      },
      "source": [
        "fruit = 'banana'\n",
        "print('n' in fruit)\n",
        "print('m' in fruit)\n",
        "print('nan' in fruit)"
      ],
      "execution_count": null,
      "outputs": [
        {
          "output_type": "stream",
          "name": "stdout",
          "text": [
            "True\n",
            "False\n",
            "True\n"
          ]
        }
      ]
    },
    {
      "cell_type": "code",
      "metadata": {
        "colab": {
          "base_uri": "https://localhost:8080/"
        },
        "id": "Hb7gi4X5TjQn",
        "outputId": "a2f7988b-067b-43e3-e4a4-f088c70b314d"
      },
      "source": [
        "fruit = 'banana'\n",
        "b = 'n' in fruit\n",
        "b"
      ],
      "execution_count": null,
      "outputs": [
        {
          "output_type": "execute_result",
          "data": {
            "text/plain": [
              "True"
            ]
          },
          "metadata": {},
          "execution_count": 6
        }
      ]
    },
    {
      "cell_type": "markdown",
      "metadata": {
        "id": "gblH-fyeIXQx"
      },
      "source": [
        "##String Library\n",
        "- str.capitalize()\n",
        "- str.center(width[, fillchar])\n",
        "- str.endswith(suffix[, start[, end]])\n",
        "- str.find(sub[, start[, end]])\n",
        "- str.lstrip([chars])\n",
        "- str.join(x [, sep])\n",
        "- str.replace(old, new[, count])\n",
        "- str.lower()\n",
        "- str.rstrip([chars])\n",
        "- str.strip([chars])\n",
        "- str.upper()\n",
        "\n",
        "\n"
      ]
    },
    {
      "cell_type": "code",
      "metadata": {
        "colab": {
          "base_uri": "https://localhost:8080/"
        },
        "id": "wGD63XFL8B0c",
        "outputId": "2167cf99-5cf0-451f-9fd9-57835d92ad4f"
      },
      "source": [
        "print('hello')\n",
        "print('hello'.center(10))"
      ],
      "execution_count": null,
      "outputs": [
        {
          "output_type": "stream",
          "name": "stdout",
          "text": [
            "hello\n",
            "  hello   \n"
          ]
        }
      ]
    },
    {
      "cell_type": "markdown",
      "metadata": {
        "id": "ah9uL2uQbvec"
      },
      "source": [
        "##Сменить регистр\n",
        "Вниманимание! С точки зрения компьютера это разные символы, поэтому необходимо самостоятельно убедиться, что строки находятся в одном регистре."
      ]
    },
    {
      "cell_type": "code",
      "metadata": {
        "colab": {
          "base_uri": "https://localhost:8080/"
        },
        "id": "j28wuY4k4kBB",
        "outputId": "a66f6a23-9c5d-493e-b0cb-00caeaaf8e59"
      },
      "source": [
        "fruit = fruit.capitalize()\n",
        "print(fruit)\n",
        "fruit = fruit.upper()\n",
        "print(fruit)\n",
        "fruit = fruit.lower()\n",
        "print(fruit)"
      ],
      "execution_count": null,
      "outputs": [
        {
          "output_type": "stream",
          "name": "stdout",
          "text": [
            "Banana\n",
            "BANANA\n",
            "banana\n"
          ]
        }
      ]
    },
    {
      "cell_type": "code",
      "metadata": {
        "colab": {
          "base_uri": "https://localhost:8080/"
        },
        "id": "gtbw8E--8tVy",
        "outputId": "c48670d3-b8ed-48ad-cff9-e916e5e19baf"
      },
      "source": [
        "'Banana' == 'BANANA'"
      ],
      "execution_count": null,
      "outputs": [
        {
          "output_type": "execute_result",
          "data": {
            "text/plain": [
              "False"
            ]
          },
          "metadata": {},
          "execution_count": 22
        }
      ]
    },
    {
      "cell_type": "markdown",
      "metadata": {
        "id": "5mQombGLZaIv"
      },
      "source": [
        "##Поиск по String\n",
        "- Метод `find()` возвращает индекс по которому начинается подстрока\n",
        "- `find()` возвращает находку для первого раза\n",
        "- Если метод ничего не находит то, `find()` вернет -1\n",
        "- Индексация начинается с 0"
      ]
    },
    {
      "cell_type": "code",
      "metadata": {
        "colab": {
          "base_uri": "https://localhost:8080/"
        },
        "id": "T0AvYeMgZMRx",
        "outputId": "00767d45-f04c-4162-a6fe-ab92201f1192"
      },
      "source": [
        "fruit = 'banana'\n",
        "pos = fruit.find('n')\n",
        "print(pos)\n",
        "pos = fruit.find('a')\n",
        "print(pos)\n",
        "\n",
        "pos = fruit.find('na')\n",
        "print(pos)\n",
        "\n",
        "aa = fruit.find('z')\n",
        "print(aa)"
      ],
      "execution_count": null,
      "outputs": [
        {
          "output_type": "stream",
          "name": "stdout",
          "text": [
            "2\n",
            "1\n",
            "2\n",
            "-1\n"
          ]
        }
      ]
    },
    {
      "cell_type": "markdown",
      "metadata": {
        "id": "lfFICYaib1yg"
      },
      "source": [
        "##Найти и заменить\n",
        "- Метод `replace()` работает как “найти и заменить” в word\n",
        "- Он возвращает Новую строку, в которой заменены все найденные подстроки."
      ]
    },
    {
      "cell_type": "code",
      "metadata": {
        "colab": {
          "base_uri": "https://localhost:8080/"
        },
        "id": "UE0v_KK1I9S2",
        "outputId": "e089a395-a6cb-40a3-fd8a-280feae14c61"
      },
      "source": [
        "animal = fruit.replace('n', 'k')\n",
        "print(animal)\n",
        "animal = animal.replace('k', 'n',1)\n",
        "print(animal)"
      ],
      "execution_count": null,
      "outputs": [
        {
          "output_type": "stream",
          "name": "stdout",
          "text": [
            "bakaka\n",
            "banaka\n"
          ]
        }
      ]
    },
    {
      "cell_type": "code",
      "metadata": {
        "colab": {
          "base_uri": "https://localhost:8080/",
          "height": 35
        },
        "id": "H1M1Sx2aYEkV",
        "outputId": "36f7c486-9fae-41e1-cd08-b3503642fe9d"
      },
      "source": [
        "'makakaka'.replace('k', 'n', 2)"
      ],
      "execution_count": null,
      "outputs": [
        {
          "output_type": "execute_result",
          "data": {
            "application/vnd.google.colaboratory.intrinsic+json": {
              "type": "string"
            },
            "text/plain": [
              "'mananaka'"
            ]
          },
          "metadata": {},
          "execution_count": 14
        }
      ]
    },
    {
      "cell_type": "markdown",
      "metadata": {
        "id": "xgO0CcFRcm_J"
      },
      "source": [
        "##Удалить пробелы или иные лишние символы на концах строки\n",
        "- Часто вам будет необходимо удалить лишние пробелы в начале или конце строки.\n",
        "- `lstrip()` и `rstrip()` сделают это слева и справа\n",
        "- `strip()` Удалит пробелы с обеих сторон"
      ]
    },
    {
      "cell_type": "code",
      "metadata": {
        "colab": {
          "base_uri": "https://localhost:8080/"
        },
        "id": "rVwXd18rZHYt",
        "outputId": "46e39adc-07df-43a0-8825-603ac81402a2"
      },
      "source": [
        "plant = 'aaaairisaa'\n",
        "print(plant)\n",
        "print(plant.strip('a'))\n",
        "print(plant.rstrip('a'))\n",
        "print(plant.lstrip('a'))\n",
        "\n",
        "plant = '   iris '\n",
        "print(plant)\n",
        "print(plant.strip()) # print(plant.strip(' '))\n",
        "print(plant.rstrip())\n",
        "print(plant.lstrip())"
      ],
      "execution_count": null,
      "outputs": [
        {
          "output_type": "stream",
          "name": "stdout",
          "text": [
            "aaaairisaa\n",
            "iris\n",
            "aaaairis\n",
            "irisaa\n",
            "   iris \n",
            "iris\n",
            "   iris\n",
            "iris \n"
          ]
        }
      ]
    },
    {
      "cell_type": "markdown",
      "metadata": {
        "id": "nttsPDDRc6lx"
      },
      "source": [
        "##Проверка префикса\n",
        "метод `startswith()` чувствителен к регистру"
      ]
    },
    {
      "cell_type": "code",
      "metadata": {
        "colab": {
          "base_uri": "https://localhost:8080/"
        },
        "id": "vh1KRAvIdIUd",
        "outputId": "a6dff7f8-c280-4d9e-db96-ede42d69b000"
      },
      "source": [
        "line = 'Please have a nice day'\n",
        "print(line.startswith('Please'))\n",
        "print(line.startswith('p'))"
      ],
      "execution_count": null,
      "outputs": [
        {
          "output_type": "stream",
          "name": "stdout",
          "text": [
            "True\n",
            "False\n"
          ]
        }
      ]
    },
    {
      "cell_type": "markdown",
      "source": [
        "#Методы работы со строкой\n",
        "Существует несколько способов форматирвоания строк:\n",
        "- метод `print()` и конкатенация строк\n",
        "- использования специального знака `%` и Template-строка\n",
        "- метод `format()`\n",
        "- f-строка"
      ],
      "metadata": {
        "id": "EmuIxz11IAjo"
      }
    },
    {
      "cell_type": "code",
      "source": [
        "name = \"Eric\"\n",
        "age = 74\n",
        "print('Hello,', name, '. You are', age, '.')"
      ],
      "metadata": {
        "colab": {
          "base_uri": "https://localhost:8080/"
        },
        "id": "sGTCeZcE9HbQ",
        "outputId": "4e5fa194-67ac-42b2-c4d2-0cf031e8bdcf"
      },
      "execution_count": null,
      "outputs": [
        {
          "output_type": "stream",
          "name": "stdout",
          "text": [
            "Hello, Eric . You are 74 .\n"
          ]
        }
      ]
    },
    {
      "cell_type": "code",
      "source": [
        "name = \"Eric\"\n",
        "age = 74\n",
        "print('Hello, ' + str(name) + '. You are ' + str(age) + '.')"
      ],
      "metadata": {
        "colab": {
          "base_uri": "https://localhost:8080/"
        },
        "id": "ZwIJpNZN9JeR",
        "outputId": "3e97cb9c-d517-437d-a1f8-4c0131a90a2b"
      },
      "execution_count": null,
      "outputs": [
        {
          "output_type": "stream",
          "name": "stdout",
          "text": [
            "Hello, Eric. You are 74.\n"
          ]
        }
      ]
    },
    {
      "cell_type": "markdown",
      "source": [
        "##%-форматирование и Template-строка\n",
        "%-форматирование - самый популярный способ, который перешел в Python из языка С. Передавать значения в строку можно через списки и кортежи , а также и с помощью словаря.\n",
        "\n",
        "Template-строка - способ, который появился в Python 2.4, как замена %-форматированию, но популярным так и не стал. Поддерживает передачу значений по имени и использует $-синтаксис как в PHP."
      ],
      "metadata": {
        "id": "25rQJqV8-xCP"
      }
    },
    {
      "cell_type": "code",
      "source": [
        "print(\"Hello world %s\" % 7)"
      ],
      "metadata": {
        "colab": {
          "base_uri": "https://localhost:8080/"
        },
        "id": "pWdd7t2Y_3j2",
        "outputId": "5b4de5a9-e800-4184-8c9d-ea1680eb9e6d"
      },
      "execution_count": null,
      "outputs": [
        {
          "output_type": "stream",
          "name": "stdout",
          "text": [
            "Hello world 7\n"
          ]
        }
      ]
    },
    {
      "cell_type": "code",
      "source": [
        "name = \"Eric\"\n",
        "age = 74\n",
        "print(\"My name is %s. I am %d years old.\" % (name, age))\n",
        "print(\"My name is %(name)s. I am %(age)d years old.\" % {\"name\": name, \"age\": age})"
      ],
      "metadata": {
        "colab": {
          "base_uri": "https://localhost:8080/"
        },
        "id": "pfstD6F8--e7",
        "outputId": "76ba8223-5543-49e3-9daa-7dfa55c13eda"
      },
      "execution_count": null,
      "outputs": [
        {
          "output_type": "stream",
          "name": "stdout",
          "text": [
            "My name is Eric. I am 74 years old.\n",
            "My name is Eric. I am 74 years old.\n"
          ]
        }
      ]
    },
    {
      "cell_type": "code",
      "source": [
        "name = \"Eric\"\n",
        "age = 74\n",
        "print(\"His name is %(name)s. He is %(age)d years old. %(name)s lives in London.\" % {\"name\": name, \"age\": age})"
      ],
      "metadata": {
        "colab": {
          "base_uri": "https://localhost:8080/"
        },
        "id": "NNBOa59sAE4X",
        "outputId": "4bf51bb6-d101-4ca1-f8f4-faeda5155cde"
      },
      "execution_count": null,
      "outputs": [
        {
          "output_type": "stream",
          "name": "stdout",
          "text": [
            "His name is Eric. He is 74 years old. Eric lives in London.\n"
          ]
        }
      ]
    },
    {
      "cell_type": "code",
      "source": [
        "from string import Template\n",
        "name1 = \"Eric\"\n",
        "age1 = 74\n",
        "s = Template('My name $name. I am $age years old.')\n",
        "print(s.substitute(name=name1, age=age1))"
      ],
      "metadata": {
        "colab": {
          "base_uri": "https://localhost:8080/"
        },
        "id": "Iyas4K_bA1lP",
        "outputId": "ebda1d88-12c8-4f4e-de30-c22bfcbffdce"
      },
      "execution_count": null,
      "outputs": [
        {
          "output_type": "stream",
          "name": "stdout",
          "text": [
            "My name Eric. I am 74 years old.\n"
          ]
        }
      ]
    },
    {
      "cell_type": "markdown",
      "source": [
        "##Форматирование строк с помощью метода `format()`\n",
        "Способ появился в Python 3 в качестве замены %-форматированию. Он также поддерживает передачу значений по позиции и по имени."
      ],
      "metadata": {
        "id": "RZ96lW6lBH0p"
      }
    },
    {
      "cell_type": "code",
      "source": [
        "name = \"Erik\"\n",
        "age = 74\n",
        "print(\"My name is {}. I am {}.\".format(name, age))\n",
        "print(\"My name is {name}. I am {age}.\".format(age=age, name=name))"
      ],
      "metadata": {
        "colab": {
          "base_uri": "https://localhost:8080/"
        },
        "id": "svzRCe4fBIEm",
        "outputId": "d35ece60-c343-47aa-8207-34900dec5099"
      },
      "execution_count": null,
      "outputs": [
        {
          "output_type": "stream",
          "name": "stdout",
          "text": [
            "My name is Erik. I am 74.\n",
            "My name is Erik. I am 74.\n"
          ]
        }
      ]
    },
    {
      "cell_type": "code",
      "source": [
        "multistr = '''\n",
        "A B C Z\n",
        "0 0 0 0\n",
        "4 0 5 0\n",
        "{v1} 4 4 0\n",
        "7 0 7 {v1}\n",
        "0 0 0 0\n",
        "4 0 5 0\n",
        "{v2} 4 4 0\n",
        "7 0 7 {v2}\n",
        "0 0 0 0\n",
        "4 0 5 0\n",
        "{v3} 4 4 0\n",
        "7 0 7 {v3}\n",
        "'''\n",
        "print(multistr.format(v1=8, v2=1, v3=3))"
      ],
      "metadata": {
        "colab": {
          "base_uri": "https://localhost:8080/"
        },
        "id": "G2GHp1ZcG4xT",
        "outputId": "fe8337f0-8282-41e3-b0d3-60ba25cd4061"
      },
      "execution_count": null,
      "outputs": [
        {
          "output_type": "stream",
          "name": "stdout",
          "text": [
            "\n",
            "A B C Z\n",
            "0 0 0 0\n",
            "4 0 5 0\n",
            "8 4 4 0\n",
            "7 0 7 8\n",
            "0 0 0 0\n",
            "4 0 5 0\n",
            "1 4 4 0\n",
            "7 0 7 1\n",
            "0 0 0 0\n",
            "4 0 5 0\n",
            "3 4 4 0\n",
            "7 0 7 3\n",
            "\n"
          ]
        }
      ]
    },
    {
      "cell_type": "markdown",
      "source": [
        "##f-строка\n",
        "Форматирование, которое появилось в Python 3.6. Этот способ похож на форматирование с помощью метода `format()`, но гибче, читабельней и быстрей."
      ],
      "metadata": {
        "id": "a09w6KCB91lZ"
      }
    },
    {
      "cell_type": "code",
      "source": [
        "name = \"Eric\"\n",
        "age = 74\n",
        "f\"Hello, {name}. You are {age}.\""
      ],
      "metadata": {
        "colab": {
          "base_uri": "https://localhost:8080/",
          "height": 35
        },
        "id": "YUY6Ja6n9M9h",
        "outputId": "ecad2fd4-96bf-4a29-d902-9a69c670dee6"
      },
      "execution_count": null,
      "outputs": [
        {
          "output_type": "execute_result",
          "data": {
            "application/vnd.google.colaboratory.intrinsic+json": {
              "type": "string"
            },
            "text/plain": [
              "'Hello, Eric. You are 74.'"
            ]
          },
          "metadata": {},
          "execution_count": 7
        }
      ]
    },
    {
      "cell_type": "code",
      "source": [
        "F\"Hello, {name}. You are {age}.\""
      ],
      "metadata": {
        "colab": {
          "base_uri": "https://localhost:8080/",
          "height": 35
        },
        "id": "N_OxtgV09QL3",
        "outputId": "ca4bc33a-b412-458b-a515-9c1b3bb22cca"
      },
      "execution_count": null,
      "outputs": [
        {
          "output_type": "execute_result",
          "data": {
            "application/vnd.google.colaboratory.intrinsic+json": {
              "type": "string"
            },
            "text/plain": [
              "'Hello, Eric. You are 74.'"
            ]
          },
          "metadata": {},
          "execution_count": 8
        }
      ]
    },
    {
      "cell_type": "code",
      "source": [
        "# a = 2*37\n",
        "# str(a)\n",
        "f\"{2 * 37}\""
      ],
      "metadata": {
        "colab": {
          "base_uri": "https://localhost:8080/",
          "height": 35
        },
        "id": "LeZVTyXc9RrE",
        "outputId": "d0b885ca-8c99-4dc6-bf64-4f8480f070cc"
      },
      "execution_count": null,
      "outputs": [
        {
          "output_type": "execute_result",
          "data": {
            "application/vnd.google.colaboratory.intrinsic+json": {
              "type": "string"
            },
            "text/plain": [
              "'74'"
            ]
          },
          "metadata": {},
          "execution_count": 9
        }
      ]
    },
    {
      "cell_type": "code",
      "source": [
        "a = '1256'\n",
        "f'{int(a)}'"
      ],
      "metadata": {
        "colab": {
          "base_uri": "https://localhost:8080/",
          "height": 36
        },
        "id": "CDJBeAR7-Y43",
        "outputId": "4b8b859a-84d9-446f-8d1b-6a387f01229a"
      },
      "execution_count": null,
      "outputs": [
        {
          "output_type": "execute_result",
          "data": {
            "text/plain": [
              "'1256'"
            ],
            "application/vnd.google.colaboratory.intrinsic+json": {
              "type": "string"
            }
          },
          "metadata": {},
          "execution_count": 16
        }
      ]
    },
    {
      "cell_type": "code",
      "source": [
        "f\"{name.lower()} is funny.\""
      ],
      "metadata": {
        "colab": {
          "base_uri": "https://localhost:8080/",
          "height": 35
        },
        "id": "ljMWJ6DQ9UQg",
        "outputId": "4f03d466-da14-4e4b-fd54-12ad52095f2a"
      },
      "execution_count": null,
      "outputs": [
        {
          "output_type": "execute_result",
          "data": {
            "application/vnd.google.colaboratory.intrinsic+json": {
              "type": "string"
            },
            "text/plain": [
              "'eric is funny.'"
            ]
          },
          "metadata": {},
          "execution_count": 10
        }
      ]
    },
    {
      "cell_type": "code",
      "source": [
        "name = \"Eric\"\n",
        "profession = \"comedian\"\n",
        "affiliation = \"Monty Python\"\n",
        "message = (\n",
        "    f\"Hi {name}. \\n\"\n",
        "    f\"You are a {profession}. \"\n",
        "    f\"You were in {affiliation}.\"\n",
        ")\n",
        "print(message)"
      ],
      "metadata": {
        "colab": {
          "base_uri": "https://localhost:8080/"
        },
        "id": "qXOIS_yJ9VM7",
        "outputId": "0f8e7130-dd5e-47f7-e43c-cb13bdbf7f1e"
      },
      "execution_count": null,
      "outputs": [
        {
          "output_type": "stream",
          "name": "stdout",
          "text": [
            "Hi Eric. \n",
            "You are a comedian. You were in Monty Python.\n"
          ]
        }
      ]
    },
    {
      "cell_type": "code",
      "source": [
        "message = (\n",
        "    f\"Hi {name}. \"\n",
        "    \"You are a {profession}. \"\n",
        "    \"You were in {affiliation}.\"\n",
        ")\n",
        "message"
      ],
      "metadata": {
        "colab": {
          "base_uri": "https://localhost:8080/",
          "height": 35
        },
        "id": "LQO4wxgN9W_N",
        "outputId": "3ece5387-f472-418a-fa63-0985d44da91f"
      },
      "execution_count": null,
      "outputs": [
        {
          "output_type": "execute_result",
          "data": {
            "application/vnd.google.colaboratory.intrinsic+json": {
              "type": "string"
            },
            "text/plain": [
              "'Hi Eric. You are a {profession}. You were in {affiliation}.'"
            ]
          },
          "metadata": {},
          "execution_count": 12
        }
      ]
    },
    {
      "cell_type": "code",
      "source": [
        "message = f\"Hi {name}. \" \\\n",
        "          f\"You are a {profession}. \" \\\n",
        "          f\"You were in {affiliation}.\"\n",
        "\n",
        "message"
      ],
      "metadata": {
        "colab": {
          "base_uri": "https://localhost:8080/",
          "height": 35
        },
        "id": "bs2JXyvY9ZdJ",
        "outputId": "60b316e6-dcd7-4335-ccc4-9bfd17946763"
      },
      "execution_count": null,
      "outputs": [
        {
          "output_type": "execute_result",
          "data": {
            "application/vnd.google.colaboratory.intrinsic+json": {
              "type": "string"
            },
            "text/plain": [
              "'Hi Eric. You are a comedian. You were in Monty Python.'"
            ]
          },
          "metadata": {},
          "execution_count": 13
        }
      ]
    },
    {
      "cell_type": "code",
      "metadata": {
        "colab": {
          "base_uri": "https://localhost:8080/"
        },
        "id": "sqtVaqd5Xkdp",
        "outputId": "462ae239-9c74-42f8-c1bf-616d76615201"
      },
      "source": [
        "message = f\"\"\"\n",
        "    Hi {name}.\n",
        "    You are a {profession}.\n",
        "    You were in {affiliation}.\n",
        "\"\"\"\n",
        "\n",
        "print(message)"
      ],
      "execution_count": null,
      "outputs": [
        {
          "output_type": "stream",
          "name": "stdout",
          "text": [
            "\n",
            "    Hi Eric. \n",
            "    You are a comedian. \n",
            "    You were in Monty Python.\n",
            "\n"
          ]
        }
      ]
    },
    {
      "cell_type": "code",
      "metadata": {
        "colab": {
          "base_uri": "https://localhost:8080/",
          "height": 35
        },
        "id": "VILzeLkZXqKE",
        "outputId": "4bf04222-5647-485c-d1de-510fa67a363c"
      },
      "source": [
        "comedian = {'name': 'Eric Idle', 'age': 74}\n",
        "f'The comedian is {comedian[\"name\"]}, aged {comedian[\"age\"]}.'"
      ],
      "execution_count": null,
      "outputs": [
        {
          "output_type": "execute_result",
          "data": {
            "application/vnd.google.colaboratory.intrinsic+json": {
              "type": "string"
            },
            "text/plain": [
              "'The comedian is Eric Idle, aged 74.'"
            ]
          },
          "metadata": {},
          "execution_count": 20
        }
      ]
    },
    {
      "cell_type": "code",
      "metadata": {
        "colab": {
          "base_uri": "https://localhost:8080/",
          "height": 132
        },
        "id": "85J0Zk0RYFMx",
        "outputId": "32cb4969-3dc3-4108-9022-fd52c3075e40"
      },
      "source": [
        "comedian = {'name': 'Eric Idle', 'age': 74}\n",
        "f'The comedian is {comedian['name']}, aged {comedian['age']}.'"
      ],
      "execution_count": null,
      "outputs": [
        {
          "output_type": "error",
          "ename": "SyntaxError",
          "evalue": "ignored",
          "traceback": [
            "\u001b[0;36m  File \u001b[0;32m\"<ipython-input-13-7cc8a5f96a99>\"\u001b[0;36m, line \u001b[0;32m2\u001b[0m\n\u001b[0;31m    f'The comedian is {comedian['name']}, aged {comedian['age']}.'\u001b[0m\n\u001b[0m                                    ^\u001b[0m\n\u001b[0;31mSyntaxError\u001b[0m\u001b[0;31m:\u001b[0m invalid syntax\n"
          ]
        }
      ]
    },
    {
      "cell_type": "code",
      "source": [],
      "metadata": {
        "id": "NDOX_6kCu7Do"
      },
      "execution_count": null,
      "outputs": []
    }
  ]
}